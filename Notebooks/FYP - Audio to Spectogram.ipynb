{
 "cells": [
  {
   "cell_type": "code",
   "execution_count": 2,
   "metadata": {},
   "outputs": [],
   "source": [
    "import numpy as np\n",
    "from numpy.lib import stride_tricks\n",
    "import os\n",
    "from PIL import Image\n",
    "import scipy.io.wavfile as wav\n",
    "import librosa  \n",
    "import errno\n",
    "import glob\n",
    "import csv"
   ]
  },
  {
   "cell_type": "code",
   "execution_count": 4,
   "metadata": {},
   "outputs": [],
   "source": [
    "# samplerate, samples = wav.read(\"300_AUDIO_8000.wav\")"
   ]
  },
  {
   "cell_type": "code",
   "execution_count": 5,
   "metadata": {},
   "outputs": [],
   "source": [
    "# samplerate"
   ]
  },
  {
   "cell_type": "code",
   "execution_count": 6,
   "metadata": {},
   "outputs": [],
   "source": [
    "# len(samples)"
   ]
  },
  {
   "cell_type": "code",
   "execution_count": 4,
   "metadata": {},
   "outputs": [
    {
     "data": {
      "text/plain": [
       "['458_AUDIO_Participant.wav',\n",
       " '436_AUDIO_Participant.wav',\n",
       " '480_AUDIO_Participant.wav',\n",
       " '308_AUDIO_Participant.wav',\n",
       " '366_AUDIO_Participant.wav',\n",
       " '370_AUDIO_Participant.wav',\n",
       " '420_AUDIO_Participant.wav',\n",
       " '462_AUDIO_Participant.wav',\n",
       " '384_AUDIO_Participant.wav',\n",
       " '332_AUDIO_Participant.wav',\n",
       " '324_AUDIO_Participant.wav',\n",
       " '392_AUDIO_Participant.wav',\n",
       " '474_AUDIO_Participant.wav',\n",
       " '428_AUDIO_Participant.wav',\n",
       " '446_AUDIO_Participant.wav',\n",
       " '378_AUDIO_Participant.wav',\n",
       " '316_AUDIO_Participant.wav',\n",
       " '300_AUDIO_Participant.wav',\n",
       " '488_AUDIO_Participant.wav',\n",
       " '450_AUDIO_Participant.wav',\n",
       " '412_AUDIO_Participant.wav',\n",
       " '354_AUDIO_Participant.wav',\n",
       " '404_AUDIO_Participant.wav',\n",
       " '330_AUDIO_Participant.wav',\n",
       " '386_AUDIO_Participant.wav',\n",
       " '390_AUDIO_Participant.wav',\n",
       " '326_AUDIO_Participant.wav',\n",
       " '348_AUDIO_Participant.wav',\n",
       " '476_AUDIO_Participant.wav',\n",
       " '418_AUDIO_Participant.wav',\n",
       " '482_AUDIO_Participant.wav',\n",
       " '434_AUDIO_Participant.wav',\n",
       " '364_AUDIO_Participant.wav',\n",
       " '372_AUDIO_Participant.wav',\n",
       " '422_AUDIO_Participant.wav',\n",
       " '410_AUDIO_Participant.wav',\n",
       " '340_AUDIO_Participant.wav',\n",
       " '356_AUDIO_Participant.wav',\n",
       " '338_AUDIO_Participant.wav',\n",
       " '406_AUDIO_Participant.wav',\n",
       " '468_AUDIO_Participant.wav',\n",
       " '444_AUDIO_Participant.wav',\n",
       " '314_AUDIO_Participant.wav',\n",
       " '302_AUDIO_Participant.wav',\n",
       " '452_AUDIO_Participant.wav',\n",
       " '312_AUDIO_Participant.wav',\n",
       " '442_AUDIO_Participant.wav',\n",
       " '454_AUDIO_Participant.wav',\n",
       " '304_AUDIO_Participant.wav',\n",
       " '346_AUDIO_Participant.wav',\n",
       " '328_AUDIO_Participant.wav',\n",
       " '416_AUDIO_Participant.wav',\n",
       " '478_AUDIO_Participant.wav',\n",
       " '400_AUDIO_Participant.wav',\n",
       " '388_AUDIO_Participant.wav',\n",
       " '350_AUDIO_Participant.wav',\n",
       " '362_AUDIO_Participant.wav',\n",
       " '484_AUDIO_Participant.wav',\n",
       " '432_AUDIO_Participant.wav',\n",
       " '424_AUDIO_Participant.wav',\n",
       " '492_AUDIO_Participant.wav',\n",
       " '374_AUDIO_Participant.wav',\n",
       " '336_AUDIO_Participant.wav',\n",
       " '358_AUDIO_Participant.wav',\n",
       " '380_AUDIO_Participant.wav',\n",
       " '466_AUDIO_Participant.wav',\n",
       " '408_AUDIO_Participant.wav',\n",
       " '470_AUDIO_Participant.wav',\n",
       " '396_AUDIO_Participant.wav',\n",
       " '320_AUDIO_Participant.wav',\n",
       " '344_AUDIO_Participant.wav',\n",
       " '414_AUDIO_Participant.wav',\n",
       " '402_AUDIO_Participant.wav',\n",
       " '352_AUDIO_Participant.wav',\n",
       " '310_AUDIO_Participant.wav',\n",
       " '440_AUDIO_Participant.wav',\n",
       " '438_AUDIO_Participant.wav',\n",
       " '456_AUDIO_Participant.wav',\n",
       " '368_AUDIO_Participant.wav',\n",
       " '306_AUDIO_Participant.wav',\n",
       " '382_AUDIO_Participant.wav',\n",
       " '334_AUDIO_Participant.wav',\n",
       " '464_AUDIO_Participant.wav',\n",
       " '472_AUDIO_Participant.wav',\n",
       " '322_AUDIO_Participant.wav',\n",
       " '360_AUDIO_Participant.wav',\n",
       " '430_AUDIO_Participant.wav',\n",
       " '486_AUDIO_Participant.wav',\n",
       " '490_AUDIO_Participant.wav',\n",
       " '448_AUDIO_Participant.wav',\n",
       " '426_AUDIO_Participant.wav',\n",
       " '318_AUDIO_Participant.wav',\n",
       " '376_AUDIO_Participant.wav',\n",
       " '301_AUDIO_Participant.wav',\n",
       " '489_AUDIO_Participant.wav',\n",
       " '451_AUDIO_Participant.wav',\n",
       " '447_AUDIO_Participant.wav',\n",
       " '429_AUDIO_Participant.wav',\n",
       " '317_AUDIO_Participant.wav',\n",
       " '379_AUDIO_Participant.wav',\n",
       " '355_AUDIO_Participant.wav',\n",
       " '405_AUDIO_Participant.wav',\n",
       " '413_AUDIO_Participant.wav',\n",
       " '343_AUDIO_Participant.wav',\n",
       " '371_AUDIO_Participant.wav',\n",
       " '421_AUDIO_Participant.wav',\n",
       " '437_AUDIO_Participant.wav',\n",
       " '459_AUDIO_Participant.wav',\n",
       " '481_AUDIO_Participant.wav',\n",
       " '367_AUDIO_Participant.wav',\n",
       " '309_AUDIO_Participant.wav',\n",
       " '325_AUDIO_Participant.wav',\n",
       " '393_AUDIO_Participant.wav',\n",
       " '475_AUDIO_Participant.wav',\n",
       " '463_AUDIO_Participant.wav',\n",
       " '385_AUDIO_Participant.wav',\n",
       " '333_AUDIO_Participant.wav',\n",
       " '339_AUDIO_Participant.wav',\n",
       " '357_AUDIO_Participant.wav',\n",
       " '469_AUDIO_Participant.wav',\n",
       " '407_AUDIO_Participant.wav',\n",
       " '411_AUDIO_Participant.wav',\n",
       " '341_AUDIO_Participant.wav',\n",
       " '399_AUDIO_Participant.wav',\n",
       " '303_AUDIO_Participant.wav',\n",
       " '453_AUDIO_Participant.wav',\n",
       " '445_AUDIO_Participant.wav',\n",
       " '315_AUDIO_Participant.wav',\n",
       " '391_AUDIO_Participant.wav',\n",
       " '349_AUDIO_Participant.wav',\n",
       " '327_AUDIO_Participant.wav',\n",
       " '419_AUDIO_Participant.wav',\n",
       " '477_AUDIO_Participant.wav',\n",
       " '461_AUDIO_Participant.wav',\n",
       " '331_AUDIO_Participant.wav',\n",
       " '387_AUDIO_Participant.wav',\n",
       " '373_AUDIO_Participant.wav',\n",
       " '423_AUDIO_Participant.wav',\n",
       " '483_AUDIO_Participant.wav',\n",
       " '435_AUDIO_Participant.wav',\n",
       " '365_AUDIO_Participant.wav',\n",
       " '425_AUDIO_Participant.wav',\n",
       " '375_AUDIO_Participant.wav',\n",
       " '363_AUDIO_Participant.wav',\n",
       " '485_AUDIO_Participant.wav',\n",
       " '433_AUDIO_Participant.wav',\n",
       " '471_AUDIO_Participant.wav',\n",
       " '397_AUDIO_Participant.wav',\n",
       " '321_AUDIO_Participant.wav',\n",
       " '359_AUDIO_Participant.wav',\n",
       " '337_AUDIO_Participant.wav',\n",
       " '381_AUDIO_Participant.wav',\n",
       " '409_AUDIO_Participant.wav',\n",
       " '467_AUDIO_Participant.wav',\n",
       " '455_AUDIO_Participant.wav',\n",
       " '305_AUDIO_Participant.wav',\n",
       " '313_AUDIO_Participant.wav',\n",
       " '443_AUDIO_Participant.wav',\n",
       " '401_AUDIO_Participant.wav',\n",
       " '389_AUDIO_Participant.wav',\n",
       " '351_AUDIO_Participant.wav',\n",
       " '329_AUDIO_Participant.wav',\n",
       " '347_AUDIO_Participant.wav',\n",
       " '479_AUDIO_Participant.wav',\n",
       " '417_AUDIO_Participant.wav',\n",
       " '473_AUDIO_Participant.wav',\n",
       " '323_AUDIO_Participant.wav',\n",
       " '395_AUDIO_Participant.wav',\n",
       " '383_AUDIO_Participant.wav',\n",
       " '335_AUDIO_Participant.wav',\n",
       " '465_AUDIO_Participant.wav',\n",
       " '491_AUDIO_Participant.wav',\n",
       " '427_AUDIO_Participant.wav',\n",
       " '449_AUDIO_Participant.wav',\n",
       " '377_AUDIO_Participant.wav',\n",
       " '319_AUDIO_Participant.wav',\n",
       " '361_AUDIO_Participant.wav',\n",
       " '431_AUDIO_Participant.wav',\n",
       " '487_AUDIO_Participant.wav',\n",
       " '403_AUDIO_Participant.wav',\n",
       " '353_AUDIO_Participant.wav',\n",
       " '345_AUDIO_Participant.wav',\n",
       " '415_AUDIO_Participant.wav',\n",
       " '457_AUDIO_Participant.wav',\n",
       " '439_AUDIO_Participant.wav',\n",
       " '307_AUDIO_Participant.wav',\n",
       " '369_AUDIO_Participant.wav',\n",
       " '311_AUDIO_Participant.wav',\n",
       " '441_AUDIO_Participant.wav']"
      ]
     },
     "execution_count": 4,
     "metadata": {},
     "output_type": "execute_result"
    }
   ],
   "source": [
    "inputDir = os.getcwd() + \"/participantsAudio\"\n",
    "\n",
    "if(not os.path.exists(inputDir)):\n",
    "    print(\"Input Directoy Not Found\")\n",
    "else:\n",
    "    listOfFile = os.listdir(inputDir)\n",
    "\n",
    "listOfFile"
   ]
  },
  {
   "cell_type": "code",
   "execution_count": 5,
   "metadata": {},
   "outputs": [],
   "source": [
    "outputDir = inputDir + \"/output\"\n",
    "if (not os.path.exists(outputDir)):\n",
    "    try:\n",
    "        os.makedirs(outputDir)\n",
    "    except OSError as e:\n",
    "        if e.errno != errno.EEXIST:\n",
    "            raise\n",
    "\n",
    "listOfWavName = []\n",
    "    \n",
    "for item in listOfFile:\n",
    "    if(item.endswith(\".wav\")):\n",
    "        filename = item.split(\".wav\")[0]\n",
    "        path = outputDir+\"/\"+filename\n",
    "        listOfWavName.append(filename)\n",
    "        if (not os.path.exists(path)):\n",
    "            try:\n",
    "                os.makedirs(path)\n",
    "            except OSError as e:\n",
    "                if e.errno != errno.EEXIST:\n",
    "                    raise"
   ]
  },
  {
   "cell_type": "code",
   "execution_count": 9,
   "metadata": {},
   "outputs": [
    {
     "name": "stderr",
     "output_type": "stream",
     "text": [
      "/Users/aaron/anaconda3/lib/python3.6/site-packages/ipykernel_launcher.py:64: RuntimeWarning: divide by zero encountered in log10\n"
     ]
    }
   ],
   "source": [
    "def processFile(filename, file):\n",
    "    samples, samplerate = librosa.load(filename, sr=8000)\n",
    "    #INSERT LOOP FOR FRAMING 10s DATA\n",
    "    totalSamples = len(samples)\n",
    "    blockPerSegment = 80000\n",
    "    cNumOfSegments = int(-(-totalSamples//blockPerSegment))\n",
    "    fNumOfSegments = int(totalSamples//blockPerSegment)\n",
    "    segments = []\n",
    "    counter = 0\n",
    "\n",
    "    for i in range(fNumOfSegments):\n",
    "    #     segments.append(1)\n",
    "        segments.append({(i)*blockPerSegment + (1 if i > 0 else 0), (i+1)*blockPerSegment})\n",
    "\n",
    "    \n",
    "    # segments\n",
    "    for x, y in segments:\n",
    "        if(x == 0):\n",
    "            shortSamples = samples[x:y]\n",
    "        else:\n",
    "            shortSamples = samples[y:x]\n",
    "        \n",
    "        \n",
    "        \n",
    "        frameSize = 200\n",
    "        hopsize = 80\n",
    "        overlap = 120\n",
    "        \n",
    "        win = np.hanning(frameSize) #Forcuses on the peak (in the middle)\n",
    "        s = np.append(np.zeros(overlap), shortSamples)\n",
    "        # cols for windowing\n",
    "        cols = np.ceil((len(s) - frameSize) / hopsize) + 1\n",
    "        # zeros at end (thus samples can be fully covered by frames)\n",
    "        s = np.append(s, np.zeros(overlap))\n",
    "        \n",
    "        frames = stride_tricks.as_strided(s, shape=(int(cols), frameSize),\n",
    "                                          strides=(s.strides[0]*hopsize,\n",
    "                                                   s.strides[0])).copy()\n",
    "        frames *= win\n",
    "        rfft = np.fft.rfft(frames)\n",
    "        timebins, freqbins = np.shape(rfft)\n",
    "        scale = np.linspace(0, 1, freqbins) ** 1\n",
    "        scale *= (freqbins-1)/max(scale)\n",
    "        scale = np.unique(np.round(scale))\n",
    "        \n",
    "        # create spectrogram with new freq bins\n",
    "        newspec = np.complex128(np.zeros([timebins, len(scale)]))\n",
    "        for i in range(0, len(scale)):\n",
    "            if i == len(scale)-1:\n",
    "                newspec[:, i] = np.sum(rfft[:, int(scale[i]):], axis=1)\n",
    "            else:\n",
    "                newspec[:, i] = np.sum(rfft[:, int(scale[i]):int(scale[i+1])], axis=1)\n",
    "                \n",
    "        # list center freq of bins\n",
    "        allfreqs = np.abs(np.fft.fftfreq(freqbins*2, 1./8000)[:freqbins+1])\n",
    "        \n",
    "        freqs = []\n",
    "        for i in range(0, len(scale)):\n",
    "            if i == len(scale)-1:\n",
    "                freqs += [np.mean(allfreqs[int(scale[i]):])]\n",
    "            else:\n",
    "                freqs += [np.mean(allfreqs[int(scale[i]):int(scale[i+1])])]\n",
    "                \n",
    "        ims = 20.*np.log10(np.abs(newspec)/10e-6)  # amplitude to decibel\n",
    "        \n",
    "        ims = np.transpose(ims)\n",
    "        ims = np.flipud(ims)  # weird - not sure why it needs flipping\n",
    "        \n",
    "#         image = Image.new()\n",
    "        image = Image.fromarray(ims)\n",
    "        image = image.convert('L')  # convert to grayscale\n",
    "        if(x == 0):\n",
    "            image.save(\"participantsAudio/output/\" + file + \"/\" + file + \"(\"+ str(x) + \"-\"+ str(y) + \")\"+\".png\")\n",
    "        else:\n",
    "            image.save(\"participantsAudio/output/\" + file + \"/\" + file + \"(\"+ str(y) + \"-\"+ str(x) + \")\"+\".png\")\n",
    "        image.close()\n",
    "\n",
    "    \n",
    "for item in listOfWavName:\n",
    "    filepath = \"participantsAudio/\" + item + \".wav\"\n",
    "    processFile(filepath, item)"
   ]
  },
  {
   "cell_type": "code",
   "execution_count": 10,
   "metadata": {},
   "outputs": [],
   "source": [
    "# samples, samplerate = librosa.load('input/301_AUDIO.wav', sr=8000)"
   ]
  },
  {
   "cell_type": "code",
   "execution_count": 11,
   "metadata": {},
   "outputs": [],
   "source": [
    "# samplerate"
   ]
  },
  {
   "cell_type": "code",
   "execution_count": 12,
   "metadata": {},
   "outputs": [],
   "source": [
    "# len(samples)"
   ]
  },
  {
   "cell_type": "code",
   "execution_count": 13,
   "metadata": {},
   "outputs": [],
   "source": [
    "# #INSERT LOOP FOR FRAMING 10s DATA\n",
    "# totalSamples = len(samples)\n",
    "# blockPerSegment = 80000\n",
    "# cNumOfSegments = int(-(-totalSamples//blockPerSegment))\n",
    "# fNumOfSegments = int(totalSamples//blockPerSegment)\n",
    "# segments = []\n",
    "# counter = 0\n",
    "\n",
    "# for i in range(fNumOfSegments):\n",
    "# #     segments.append(1)\n",
    "#     segments.append({(i)*blockPerSegment + (1 if i > 0 else 0), (i+1)*blockPerSegment})\n",
    "\n",
    "# # segments\n",
    "# for x, y in segments:\n",
    "#     newSamples = newSamples[x:y]"
   ]
  },
  {
   "cell_type": "code",
   "execution_count": null,
   "metadata": {},
   "outputs": [],
   "source": []
  },
  {
   "cell_type": "code",
   "execution_count": 14,
   "metadata": {},
   "outputs": [],
   "source": [
    "# samples = samples[:80000]\n",
    "# #320000 = 40sec worth of audio samples"
   ]
  },
  {
   "cell_type": "code",
   "execution_count": 15,
   "metadata": {},
   "outputs": [],
   "source": [
    "# frameSize = 200\n",
    "# hopsize = 80\n",
    "# overlap = 120"
   ]
  },
  {
   "cell_type": "code",
   "execution_count": 16,
   "metadata": {},
   "outputs": [],
   "source": [
    "# len(samples)/samplerate"
   ]
  },
  {
   "cell_type": "code",
   "execution_count": 17,
   "metadata": {
    "scrolled": true
   },
   "outputs": [],
   "source": [
    "# win = np.hanning(frameSize) #Forcuses on the peak (in the middle)"
   ]
  },
  {
   "cell_type": "code",
   "execution_count": null,
   "metadata": {},
   "outputs": [],
   "source": []
  },
  {
   "cell_type": "code",
   "execution_count": 18,
   "metadata": {},
   "outputs": [],
   "source": [
    "# s = np.append(np.zeros(overlap), samples)\n",
    "# # cols for windowing\n",
    "# cols = np.ceil((len(s) - frameSize) / hopsize) + 1\n",
    "# # zeros at end (thus samples can be fully covered by frames)\n",
    "# s = np.append(s, np.zeros(overlap))"
   ]
  },
  {
   "cell_type": "code",
   "execution_count": 19,
   "metadata": {},
   "outputs": [],
   "source": [
    "# cols"
   ]
  },
  {
   "cell_type": "code",
   "execution_count": 20,
   "metadata": {},
   "outputs": [],
   "source": [
    "# frames = stride_tricks.as_strided(s, shape=(int(cols), frameSize),\n",
    "#                                       strides=(s.strides[0]*hopsize,\n",
    "#                                       s.strides[0])).copy()"
   ]
  },
  {
   "cell_type": "code",
   "execution_count": 21,
   "metadata": {},
   "outputs": [],
   "source": [
    "# frames"
   ]
  },
  {
   "cell_type": "code",
   "execution_count": 22,
   "metadata": {},
   "outputs": [],
   "source": [
    "# np.shape(frames)"
   ]
  },
  {
   "cell_type": "code",
   "execution_count": null,
   "metadata": {},
   "outputs": [],
   "source": []
  },
  {
   "cell_type": "code",
   "execution_count": 23,
   "metadata": {},
   "outputs": [],
   "source": [
    "# frames *= win\n",
    "# #frames"
   ]
  },
  {
   "cell_type": "code",
   "execution_count": null,
   "metadata": {},
   "outputs": [],
   "source": []
  },
  {
   "cell_type": "code",
   "execution_count": 24,
   "metadata": {},
   "outputs": [],
   "source": [
    "# rfft = np.fft.rfft(frames)"
   ]
  },
  {
   "cell_type": "code",
   "execution_count": null,
   "metadata": {},
   "outputs": [],
   "source": []
  },
  {
   "cell_type": "code",
   "execution_count": 25,
   "metadata": {},
   "outputs": [],
   "source": [
    "# np.shape(rfft)"
   ]
  },
  {
   "cell_type": "code",
   "execution_count": null,
   "metadata": {},
   "outputs": [],
   "source": []
  },
  {
   "cell_type": "code",
   "execution_count": 26,
   "metadata": {},
   "outputs": [],
   "source": [
    "# timebins, freqbins = np.shape(rfft)"
   ]
  },
  {
   "cell_type": "code",
   "execution_count": 27,
   "metadata": {},
   "outputs": [],
   "source": [
    "# timebins"
   ]
  },
  {
   "cell_type": "code",
   "execution_count": 28,
   "metadata": {},
   "outputs": [],
   "source": [
    "# freqbins"
   ]
  },
  {
   "cell_type": "code",
   "execution_count": 29,
   "metadata": {},
   "outputs": [],
   "source": [
    "# scale = np.linspace(0, 1, freqbins) ** 1\n",
    "# scale *= (freqbins-1)/max(scale)\n",
    "# scale = np.unique(np.round(scale))"
   ]
  },
  {
   "cell_type": "code",
   "execution_count": null,
   "metadata": {},
   "outputs": [],
   "source": []
  },
  {
   "cell_type": "code",
   "execution_count": 30,
   "metadata": {},
   "outputs": [],
   "source": [
    "# # create spectrogram with new freq bins\n",
    "# newspec = np.complex128(np.zeros([timebins, len(scale)]))"
   ]
  },
  {
   "cell_type": "code",
   "execution_count": 31,
   "metadata": {},
   "outputs": [],
   "source": [
    "# newspec"
   ]
  },
  {
   "cell_type": "code",
   "execution_count": 32,
   "metadata": {},
   "outputs": [],
   "source": [
    "# for i in range(0, len(scale)):\n",
    "#     if i == len(scale)-1:\n",
    "#         newspec[:, i] = np.sum(rfft[:, int(scale[i]):], axis=1)\n",
    "#     else:\n",
    "#         newspec[:, i] = np.sum(rfft[:, int(scale[i]):int(scale[i+1])], axis=1)"
   ]
  },
  {
   "cell_type": "code",
   "execution_count": 33,
   "metadata": {},
   "outputs": [],
   "source": [
    "# newspec"
   ]
  },
  {
   "cell_type": "code",
   "execution_count": 34,
   "metadata": {},
   "outputs": [],
   "source": [
    "# # list center freq of bins\n",
    "# allfreqs = np.abs(np.fft.fftfreq(freqbins*2, 1./8000)[:freqbins+1])"
   ]
  },
  {
   "cell_type": "code",
   "execution_count": 35,
   "metadata": {},
   "outputs": [
    {
     "ename": "NameError",
     "evalue": "name 'allfreqs' is not defined",
     "output_type": "error",
     "traceback": [
      "\u001b[0;31m---------------------------------------------------------------------------\u001b[0m",
      "\u001b[0;31mNameError\u001b[0m                                 Traceback (most recent call last)",
      "\u001b[0;32m<ipython-input-35-fa911020d414>\u001b[0m in \u001b[0;36m<module>\u001b[0;34m\u001b[0m\n\u001b[0;32m----> 1\u001b[0;31m \u001b[0mallfreqs\u001b[0m\u001b[0;34m\u001b[0m\u001b[0;34m\u001b[0m\u001b[0m\n\u001b[0m",
      "\u001b[0;31mNameError\u001b[0m: name 'allfreqs' is not defined"
     ]
    }
   ],
   "source": [
    "allfreqs"
   ]
  },
  {
   "cell_type": "code",
   "execution_count": null,
   "metadata": {},
   "outputs": [],
   "source": [
    "# freqs = []\n",
    "# for i in range(0, len(scale)):\n",
    "#     if i == len(scale)-1:\n",
    "#         freqs += [np.mean(allfreqs[int(scale[i]):])]\n",
    "#     else:\n",
    "#         freqs += [np.mean(allfreqs[int(scale[i]):int(scale[i+1])])]"
   ]
  },
  {
   "cell_type": "code",
   "execution_count": null,
   "metadata": {},
   "outputs": [],
   "source": [
    "# freqs"
   ]
  },
  {
   "cell_type": "code",
   "execution_count": null,
   "metadata": {},
   "outputs": [],
   "source": [
    "# ims = 20.*np.log10(np.abs(newspec)/10e-6)  # amplitude to decibel"
   ]
  },
  {
   "cell_type": "code",
   "execution_count": null,
   "metadata": {},
   "outputs": [],
   "source": [
    "# ims"
   ]
  },
  {
   "cell_type": "code",
   "execution_count": null,
   "metadata": {},
   "outputs": [],
   "source": [
    "# np.shape(ims)"
   ]
  },
  {
   "cell_type": "code",
   "execution_count": null,
   "metadata": {},
   "outputs": [],
   "source": [
    "# ims = np.transpose(ims)\n",
    "# ims = np.flipud(ims)  # weird - not sure why it needs flipping"
   ]
  },
  {
   "cell_type": "code",
   "execution_count": null,
   "metadata": {},
   "outputs": [],
   "source": [
    "# image = Image.fromarray(ims)\n",
    "# image = image.convert('L')  # convert to grayscale\n",
    "# image.save(\"300_AUDIO_8000.png\")"
   ]
  },
  {
   "cell_type": "code",
   "execution_count": null,
   "metadata": {},
   "outputs": [],
   "source": []
  },
  {
   "cell_type": "code",
   "execution_count": null,
   "metadata": {},
   "outputs": [],
   "source": [
    "# ims"
   ]
  },
  {
   "cell_type": "code",
   "execution_count": null,
   "metadata": {},
   "outputs": [],
   "source": []
  },
  {
   "cell_type": "code",
   "execution_count": null,
   "metadata": {},
   "outputs": [],
   "source": []
  },
  {
   "cell_type": "code",
   "execution_count": null,
   "metadata": {},
   "outputs": [],
   "source": []
  },
  {
   "cell_type": "code",
   "execution_count": null,
   "metadata": {},
   "outputs": [],
   "source": []
  },
  {
   "cell_type": "code",
   "execution_count": null,
   "metadata": {},
   "outputs": [],
   "source": []
  },
  {
   "cell_type": "code",
   "execution_count": null,
   "metadata": {},
   "outputs": [],
   "source": []
  }
 ],
 "metadata": {
  "kernelspec": {
   "display_name": "Python 3",
   "language": "python",
   "name": "python3"
  },
  "language_info": {
   "codemirror_mode": {
    "name": "ipython",
    "version": 3
   },
   "file_extension": ".py",
   "mimetype": "text/x-python",
   "name": "python",
   "nbconvert_exporter": "python",
   "pygments_lexer": "ipython3",
   "version": "3.7.3"
  }
 },
 "nbformat": 4,
 "nbformat_minor": 2
}
