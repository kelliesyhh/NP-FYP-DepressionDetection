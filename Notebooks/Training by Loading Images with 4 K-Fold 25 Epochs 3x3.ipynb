{
 "cells": [
  {
   "cell_type": "code",
   "execution_count": 1,
   "metadata": {},
   "outputs": [
    {
     "name": "stderr",
     "output_type": "stream",
     "text": [
      "Using TensorFlow backend.\n"
     ]
    }
   ],
   "source": [
    "import os\n",
    "import numpy as np\n",
    "import pandas as pd\n",
    "import csv\n",
    "import matplotlib.pyplot as plt\n",
    "import matplotlib.pylab as plb\n",
    "# import cv2\n",
    "import pandas as pd\n",
    "from PIL import Image, ImageFilter\n",
    "\n",
    "import sklearn\n",
    "import pandas as pd\n",
    "from sklearn.model_selection import train_test_split\n",
    "\n",
    "import keras\n",
    "from keras.datasets import mnist\n",
    "from keras.models import Sequential\n",
    "from keras.layers import Dense, Dropout, Flatten, Activation\n",
    "\n",
    "from keras.layers import Conv2D, MaxPooling2D, GlobalAveragePooling2D, AveragePooling2D\n",
    "from keras import backend as K\n",
    "from keras.callbacks import TensorBoard\n",
    "\n",
    "import tensorflow as tf"
   ]
  },
  {
   "cell_type": "code",
   "execution_count": 2,
   "metadata": {},
   "outputs": [
    {
     "name": "stdout",
     "output_type": "stream",
     "text": [
      "1.13.1\n",
      "[name: \"/device:CPU:0\"\n",
      "device_type: \"CPU\"\n",
      "memory_limit: 268435456\n",
      "locality {\n",
      "}\n",
      "incarnation: 5352945193326665535\n",
      "]\n"
     ]
    }
   ],
   "source": [
    "# os.environ[\"KERAS_BACKEND\"] = \"plaidml.keras.backend\" #for GPU Support on MacBook\n",
    "print(tf.__version__)\n",
    "from tensorflow.python.client import device_lib\n",
    "print(device_lib.list_local_devices())"
   ]
  },
  {
   "cell_type": "code",
   "execution_count": 3,
   "metadata": {},
   "outputs": [],
   "source": [
    "# X_train, X_test, y_train, y_test = train_test_split(X, y, test_size = 0.2, random_state = 0)"
   ]
  },
  {
   "cell_type": "code",
   "execution_count": 4,
   "metadata": {},
   "outputs": [],
   "source": [
    "currentDir = os.getcwd()\n",
    "datasetDir = currentDir + \"\\\\FilteredImages\\\\\"\n",
    "# datasetDir = currentDir + \"/FilteredImages2/\" # NEW SINGLE IMAGES DIRECTORY\n",
    "trainDir = os.path.join(datasetDir, \"train\")\n",
    "testDir = os.path.join(datasetDir, \"test\")\n",
    "validDir = os.path.join(datasetDir, \"valid\")\n",
    "y_dataDir = os.path.join(datasetDir, \"y_data\")"
   ]
  },
  {
   "cell_type": "code",
   "execution_count": 5,
   "metadata": {},
   "outputs": [],
   "source": [
    "def sortFirst(val):\n",
    "    return val[0]\n",
    "\n",
    "def getBinary(dataFile):\n",
    "    listOfTraining = []\n",
    "    trainingHeader = []\n",
    "    with open(dataFile) as csvfile:\n",
    "#     reader = csv.DictReader(csvfile)\n",
    "        reader2 = csv.reader(csvfile)\n",
    "        listOfTraining = list(reader2)\n",
    "        trainingHeader = listOfTraining[0]\n",
    "        listOfTraining.pop(0)\n",
    "#         listOfTraining = listOfTraining.sort(key = sortFirst, reverse = False)\n",
    "#         np.asarray(listofTraining, dtype=np.int32)\n",
    "#         return np.asarray(listofTraining, dtype=np.int32)\n",
    "    listOfTrainingBinary = []\n",
    "    for item in listOfTraining:\n",
    "        listOfTrainingBinary.append(item[1])\n",
    "    return np.asarray(listOfTrainingBinary, dtype=np.int32)"
   ]
  },
  {
   "cell_type": "code",
   "execution_count": 6,
   "metadata": {},
   "outputs": [
    {
     "name": "stdout",
     "output_type": "stream",
     "text": [
      "[0 0 0 0 0 0 0 0 0 0 1 1 1 0 0 1 0 0 0 1 0 0 1 1 0 0 0 1 1 1 1 1 1 1 1 1 1\n",
      " 0 0 0 1 0 0 0 0 0 0 0 1 0 0 1 0 1 0 0 1 0 0 0 0 0 0 1 0 1 1 0 0 0 0 0 1 0\n",
      " 0 0 0 1 0 0 1 0 0 0 0 0 1 0 0 0 0 0 1 0 0 0 0 0 0 0 0 0 0 0 0 0 0]\n",
      "[0 0 0 1 1 1 1 1 0 1 1 0 0 0 0 0 1 0 1 0 1 0 0 1 0 0 0 0 0 0 1 0 0 0 0]\n"
     ]
    }
   ],
   "source": [
    "y_train = []\n",
    "y_trainDir = os.path.join(y_dataDir, 'train_split_Depression_AVEC2017-edited.csv')\n",
    "# print(y_trainDir)\n",
    "y_train = getBinary(y_trainDir)\n",
    "y_testDir = os.path.join(y_dataDir, 'dev_split_Depression_AVEC2017.csv')\n",
    "# print(y_testDir)\n",
    "y_test = getBinary(y_testDir)\n",
    "print(y_train)\n",
    "print(y_test)\n",
    "\n",
    "# Y_train = np.asarray(y_train, dtype=np.int32)"
   ]
  },
  {
   "cell_type": "code",
   "execution_count": 7,
   "metadata": {},
   "outputs": [],
   "source": [
    "x_trainDir = trainDir\n",
    "x_testDir = testDir"
   ]
  },
  {
   "cell_type": "code",
   "execution_count": 8,
   "metadata": {},
   "outputs": [
    {
     "data": {
      "text/plain": [
       "'C:\\\\Users\\\\hong ray\\\\Desktop\\\\FYP\\\\Aaron-Workspace\\\\FilteredImages\\\\train'"
      ]
     },
     "execution_count": 8,
     "metadata": {},
     "output_type": "execute_result"
    }
   ],
   "source": [
    "x_trainDir"
   ]
  },
  {
   "cell_type": "code",
   "execution_count": 9,
   "metadata": {},
   "outputs": [],
   "source": [
    "# testSet = []\n",
    "# testFolders =[]\n",
    "# # trainingSet = []\n",
    "# trainingFolders = []\n",
    "# x_train = []\n",
    "# y_train = []\n",
    "\n",
    "def getImagesDir(mainDirectory):\n",
    "    ImgDict = {}\n",
    "    ImgList = []\n",
    "    \n",
    "    for folder in os.listdir(mainDirectory):\n",
    "        theDir = os.path.join(mainDirectory, folder)\n",
    "        images = os.listdir(theDir)\n",
    "        listOfImgDir = []\n",
    "        for img in images:\n",
    "#             listOfImgDir.append(Image.open(os.path.join(theDir, img)))\n",
    "            listOfImgDir.append(os.path.join(theDir, img))\n",
    "#         print(listOfImgDir)\n",
    "#         print(images)\n",
    "        folderName = folder.split('_')\n",
    "        ImgDict[folderName[0]] = listOfImgDir\n",
    "        ImgList.append(listOfImgDir)\n",
    "    imgList = ImgList.sort(key = sortFirst, reverse = False)\n",
    "    return ImgList\n",
    "        \n",
    "        \n",
    "#         for img in images\n",
    "    \n",
    "# for folder in toProcessList:\n",
    "#     images = os.listdir(datasetDir + \"/\" + folder)\n",
    "#     folderName = folder.split('_')\n",
    "# #     print(folderName[0])\n",
    "#     if folderName[0] in listOfTrainingName:\n",
    "#         trainingFolders.append(datasetDir + \"/\" + folder)\n",
    "# #         print(folderName)\n",
    "#         index = listOfTrainingName.index(folderName[0])\n",
    "#         temp = listOfTraining[index]\n",
    "#         x_train.append(images)\n",
    "#         tempBList = []\n",
    "#         val = temp[1]\n",
    "#         tempBList.append(val)\n",
    "#         y_train.append(tempBList)\n",
    "#         #temp.append(images)\n",
    "#         #trainingSet.append(temp)\n",
    "#     else:\n",
    "#         testFolders.append(datasetDir + \"/\" + folder)\n",
    "#         testSet.append(images)\n",
    "\n",
    "trainingImagesDir = getImagesDir(trainDir)\n",
    "testImagesDir = getImagesDir(testDir)\n",
    "# np.array(trainingImages).shape"
   ]
  },
  {
   "cell_type": "code",
   "execution_count": 10,
   "metadata": {},
   "outputs": [],
   "source": [
    "def importImages(listOfImgDir):\n",
    "    myFolder = []\n",
    "    for folder in listOfImgDir:\n",
    "        myImages = []\n",
    "        for image in folder:\n",
    "            myImages.append(np.array(Image.open(image)))\n",
    "        myFolder.append(np.array(myImages))\n",
    "    return myFolder\n",
    "\n",
    "\n",
    "#First Array iterate through Folder, Second Array Iterate though Image in Folder\n",
    "trainingImages = importImages(trainingImagesDir)\n",
    "testImages = importImages(testImagesDir)"
   ]
  },
  {
   "cell_type": "code",
   "execution_count": 11,
   "metadata": {},
   "outputs": [
    {
     "name": "stdout",
     "output_type": "stream",
     "text": [
      "107\n"
     ]
    },
    {
     "data": {
      "text/plain": [
       "107"
      ]
     },
     "execution_count": 11,
     "metadata": {},
     "output_type": "execute_result"
    }
   ],
   "source": [
    "#Num of Img, Height, Width\n",
    "print(len(trainingImages)) \n",
    "\n",
    "len(y_train)"
   ]
  },
  {
   "cell_type": "code",
   "execution_count": 12,
   "metadata": {},
   "outputs": [],
   "source": [
    "trainingImagesNP = np.array(trainingImages)\n",
    "testImagesNP = np.array(testImages)"
   ]
  },
  {
   "cell_type": "code",
   "execution_count": 13,
   "metadata": {},
   "outputs": [],
   "source": [
    "# print(trainingImages.shape)\n",
    "# print(trainingImages[0])\n",
    "# print(trainingImagesNP[10].shape)\n",
    "# print(y_train)\n",
    "\n",
    "neg = []\n",
    "y_neg = []\n",
    "pos = []\n",
    "y_pos = []\n",
    "\n",
    "for x,y in zip(trainingImages, y_train):\n",
    "    if (y == 0):\n",
    "        for each in x:\n",
    "            neg.append(each)\n",
    "            y_neg.append(0)\n",
    "    else:\n",
    "        for each in x:\n",
    "            pos.append(each)\n",
    "            y_pos.append(1)\n",
    "\n",
    "X = pos + neg\n",
    "Y = y_pos + y_neg"
   ]
  },
  {
   "cell_type": "code",
   "execution_count": 14,
   "metadata": {},
   "outputs": [],
   "source": [
    "neg_test = []\n",
    "y_neg_test = []\n",
    "pos_test = []\n",
    "y_pos_test = []\n",
    "\n",
    "for x,y in zip(testImages, y_train):\n",
    "    if (y == 0):\n",
    "        for each in x:\n",
    "            neg_test.append(each)\n",
    "            y_neg_test.append(0)\n",
    "    else:\n",
    "        for each in x:\n",
    "            pos_test.append(each)\n",
    "            y_pos_test.append(1)\n",
    "\n",
    "X_test = pos_test + neg_test\n",
    "Y_test = y_pos_test + y_neg_test\n",
    "\n",
    "\n",
    "npX_test = np.array(X_test)\n",
    "npY_test = np.array(Y_test)\n",
    "newNPX_test = npX_test.reshape(npX_test.shape[0], 101, 1000, 1)"
   ]
  },
  {
   "cell_type": "code",
   "execution_count": 15,
   "metadata": {},
   "outputs": [],
   "source": [
    "vImagesDir = getImagesDir(validDir)\n",
    "vImages = importImages(vImagesDir)\n",
    "vImagesNP = np.array(vImages)\n",
    "\n",
    "#TESTING DATA UNSEEN DATA\n",
    "v = []\n",
    "# y_neg_v = []\n",
    "# pos_v = []\n",
    "# y_pos_v = []\n",
    "\n",
    "for x in vImages:\n",
    "    for each in x:\n",
    "        v.append(each)\n",
    "\n",
    "# X_v = pos_v + neg_v\n",
    "# Y_v = y_pos_v + y_neg_v\n",
    "\n",
    "\n",
    "np_v = np.array(v)\n",
    "# npY_test = np.array(Y_test)\n",
    "newNPX_v = np_v.reshape(np_v.shape[0], 101, 1000, 1)"
   ]
  },
  {
   "cell_type": "code",
   "execution_count": 16,
   "metadata": {},
   "outputs": [],
   "source": [
    "npX = np.array(X)\n",
    "npY = np.array(Y)"
   ]
  },
  {
   "cell_type": "code",
   "execution_count": 17,
   "metadata": {},
   "outputs": [
    {
     "name": "stdout",
     "output_type": "stream",
     "text": [
      "(4591, 101, 1000)\n",
      "(4591,)\n"
     ]
    }
   ],
   "source": [
    "print(npX.shape)\n",
    "print(npY.shape)"
   ]
  },
  {
   "cell_type": "code",
   "execution_count": 18,
   "metadata": {},
   "outputs": [],
   "source": [
    "newNPX = npX.reshape(npX.shape[0], 101, 1000, 1)"
   ]
  },
  {
   "cell_type": "code",
   "execution_count": 19,
   "metadata": {},
   "outputs": [
    {
     "name": "stdout",
     "output_type": "stream",
     "text": [
      "(4591, 101, 1000, 1)\n"
     ]
    }
   ],
   "source": [
    "print(newNPX.shape)"
   ]
  },
  {
   "cell_type": "code",
   "execution_count": 20,
   "metadata": {},
   "outputs": [],
   "source": [
    "# print(trainingImagesNP)"
   ]
  },
  {
   "cell_type": "code",
   "execution_count": 21,
   "metadata": {},
   "outputs": [],
   "source": [
    "# input_shape = (101, 1000, 3)\n",
    "\n",
    "# model = Sequential()\n",
    "# model.add(Conv2D(32, (3, 3), input_shape=input_shape))\n",
    "# model.add(Activation('relu'))\n",
    "# model.add(MaxPooling2D(pool_size=(2, 2)))\n",
    "\n",
    "# model.add(Conv2D(32, (3, 3)))\n",
    "# model.add(Activation('relu'))\n",
    "# model.add(MaxPooling2D(pool_size=(2, 2)))\n",
    "\n",
    "# model.add(Conv2D(64, (3, 3)))\n",
    "# model.add(Activation('relu'))\n",
    "# model.add(MaxPooling2D(pool_size=(2, 2)))\n",
    "\n",
    "# model.add(Flatten())\n",
    "# model.add(Dense(64))\n",
    "# model.add(Activation('relu'))\n",
    "# # model.add(Dropout(0.5))\n",
    "# model.add(Dense(1))\n",
    "# model.add(Activation('sigmoid'))\n",
    "\n",
    "# model.compile(loss='binary_crossentropy',\n",
    "#               optimizer='rmsprop',\n",
    "#               metrics=['accuracy'])\n",
    "\n",
    "# model.summary()"
   ]
  },
  {
   "cell_type": "code",
   "execution_count": 22,
   "metadata": {},
   "outputs": [],
   "source": [
    "# from keras.preprocessing.image import ImageDataGenerator"
   ]
  },
  {
   "cell_type": "code",
   "execution_count": 23,
   "metadata": {},
   "outputs": [],
   "source": [
    "#Saving Model\n",
    "from keras.callbacks import ModelCheckpoint\n",
    "#numEpochs = 100\n",
    "numEpochs = 25\n",
    "model_path = os.path.join(currentDir,'DAM-DHM-V-'+ str(numEpochs) +'.h5')\n",
    "\n",
    "# checkpoint = ModelCheckpoint(model_path, monitor='loss', verbose=1, save_best_only=True, mode='max')\n",
    "\n",
    "# checkpoint = ModelCheckpoint(model_path, monitor='acc', verbose=1, save_best_only=True, mode='max')\n",
    "\n",
    "checkpoint = ModelCheckpoint(model_path, monitor='acc', verbose=1, save_best_only=False, save_weights_only=False, mode='auto')\n",
    "tbCallBack = TensorBoard(log_dir='./Graph', histogram_freq=0, write_graph=True, write_images=True)\n",
    "\n",
    "callbacks_list = [checkpoint, tbCallBack]"
   ]
  },
  {
   "cell_type": "code",
   "execution_count": 24,
   "metadata": {},
   "outputs": [],
   "source": [
    "# input_shape"
   ]
  },
  {
   "cell_type": "code",
   "execution_count": 25,
   "metadata": {},
   "outputs": [],
   "source": [
    "input_shape = (101, 1000, 1)"
   ]
  },
  {
   "cell_type": "code",
   "execution_count": 26,
   "metadata": {},
   "outputs": [],
   "source": [
    "# DR HARRY\n",
    "from keras.callbacks import EarlyStopping\n",
    "\n",
    "def evaluate_model(X_train, X_val, y_train, y_val):\n",
    "    model = Sequential()\n",
    "    model.add(Conv2D(32, (3, 3), padding='same', input_shape=input_shape, activation='relu'))\n",
    "    model.add(Conv2D(32, (3, 3), padding='same', activation='relu'))\n",
    "    model.add(AveragePooling2D(pool_size=(4, 3)))\n",
    "\n",
    "    model.add(Conv2D(64, (3, 3), padding='same', activation='relu'))\n",
    "    model.add(Conv2D(64, (3, 3), padding='same', activation='relu'))\n",
    "    model.add(AveragePooling2D(pool_size=(4, 3)))\n",
    "\n",
    "    model.add(Conv2D(96, (3, 3), padding='same', activation='relu'))\n",
    "    model.add(Conv2D(96, (3, 3), padding='same', activation='relu'))\n",
    "    model.add(AveragePooling2D(pool_size=(4, 3)))\n",
    "\n",
    "    model.add(Flatten())\n",
    "    model.add(Dense(256, activation='relu'))\n",
    "    model.add(Dense(256, activation='relu'))\n",
    "\n",
    "    model.add(Dense(1))\n",
    "    model.add(Activation('sigmoid'))\n",
    "\n",
    "    model.compile(loss='binary_crossentropy',\n",
    "                  optimizer='adadelta', #adam\n",
    "                  metrics=['accuracy']) \n",
    "    \n",
    "    print(model.metrics_names)\n",
    "    \n",
    "    model.save_weights('model.h5')\n",
    "    \n",
    "    callbacks = [EarlyStopping(monitor='val_acc', patience = 10)]\n",
    "    \n",
    "    hist=model.fit(x=X_train, y=y_train, batch_size=32, epochs=numEpochs, callbacks=callbacks_list, validation_data=(X_val, y_val))\n",
    "    \n",
    "    _, val_acc=model.evaluate(x=X_val, y=y_val, verbose=1)\n",
    "  \n",
    "    model.load_weights('model.h5')\n",
    "    \n",
    "    model.summary()\n",
    "    \n",
    "    print(\"acc: \", np.mean(hist.history['acc']))\n",
    "    \n",
    "    print(\"val_acc: \", val_acc)\n",
    "    \n",
    "    model.save(''+ str(numEpochs) +' Epoch (Dr Harry Model) w validation.h5')\n",
    "    \n",
    "    plt.plot(hist.history['acc'])\n",
    "    plt.plot(hist.history['val_acc'])\n",
    "    plt.title('model accuracy')\n",
    "    plt.ylabel('accuracy')\n",
    "    plt.xlabel('epoch')\n",
    "    plt.legend(['acc', 'val_acc'], loc='upper left')\n",
    "    plt.show()\n",
    "    # summarize history for loss\n",
    "    plt.plot(hist.history['loss'])\n",
    "    plt.plot(hist.history['val_loss'])\n",
    "    plt.title('model loss')\n",
    "    plt.ylabel('loss')\n",
    "    plt.xlabel('epoch')\n",
    "    plt.legend(['loss', 'val_loss'], loc='upper left')\n",
    "    plt.show()\n",
    "    \n",
    "    return model, val_acc"
   ]
  },
  {
   "cell_type": "code",
   "execution_count": 27,
   "metadata": {},
   "outputs": [
    {
     "name": "stdout",
     "output_type": "stream",
     "text": [
      "WARNING:tensorflow:From C:\\Users\\hong ray\\Anaconda3\\lib\\site-packages\\tensorflow\\python\\framework\\op_def_library.py:263: colocate_with (from tensorflow.python.framework.ops) is deprecated and will be removed in a future version.\n",
      "Instructions for updating:\n",
      "Colocations handled automatically by placer.\n",
      "['loss', 'acc']\n",
      "WARNING:tensorflow:From C:\\Users\\hong ray\\Anaconda3\\lib\\site-packages\\tensorflow\\python\\ops\\math_ops.py:3066: to_int32 (from tensorflow.python.ops.math_ops) is deprecated and will be removed in a future version.\n",
      "Instructions for updating:\n",
      "Use tf.cast instead.\n",
      "Train on 4591 samples, validate on 1740 samples\n",
      "Epoch 1/25\n",
      "4591/4591 [==============================] - 410s 89ms/step - loss: 0.6733 - acc: 0.7101 - val_loss: 0.6790 - val_acc: 0.5902\n",
      "\n",
      "Epoch 00001: saving model to C:\\Users\\hong ray\\Desktop\\FYP\\Aaron-Workspace\\DAM-DHM-V-25.h5\n",
      "Epoch 2/25\n",
      "4591/4591 [==============================] - 404s 88ms/step - loss: 0.6116 - acc: 0.7188 - val_loss: 0.7178 - val_acc: 0.5902\n",
      "\n",
      "Epoch 00002: saving model to C:\\Users\\hong ray\\Desktop\\FYP\\Aaron-Workspace\\DAM-DHM-V-25.h5\n",
      "Epoch 3/25\n",
      "4591/4591 [==============================] - 403s 88ms/step - loss: 0.5990 - acc: 0.7188 - val_loss: 0.6960 - val_acc: 0.5902\n",
      "\n",
      "Epoch 00003: saving model to C:\\Users\\hong ray\\Desktop\\FYP\\Aaron-Workspace\\DAM-DHM-V-25.h5\n",
      "Epoch 4/25\n",
      "4591/4591 [==============================] - 403s 88ms/step - loss: 0.5963 - acc: 0.7188 - val_loss: 0.7333 - val_acc: 0.5902\n",
      "\n",
      "Epoch 00004: saving model to C:\\Users\\hong ray\\Desktop\\FYP\\Aaron-Workspace\\DAM-DHM-V-25.h5\n",
      "Epoch 5/25\n",
      "4591/4591 [==============================] - 404s 88ms/step - loss: 0.5958 - acc: 0.7188 - val_loss: 0.7122 - val_acc: 0.5902\n",
      "\n",
      "Epoch 00005: saving model to C:\\Users\\hong ray\\Desktop\\FYP\\Aaron-Workspace\\DAM-DHM-V-25.h5\n",
      "Epoch 6/25\n",
      "4591/4591 [==============================] - 403s 88ms/step - loss: 0.5954 - acc: 0.7188 - val_loss: 0.7088 - val_acc: 0.5902\n",
      "\n",
      "Epoch 00006: saving model to C:\\Users\\hong ray\\Desktop\\FYP\\Aaron-Workspace\\DAM-DHM-V-25.h5\n",
      "Epoch 7/25\n",
      "4591/4591 [==============================] - 403s 88ms/step - loss: 0.5968 - acc: 0.7188 - val_loss: 0.6964 - val_acc: 0.5902\n",
      "\n",
      "Epoch 00007: saving model to C:\\Users\\hong ray\\Desktop\\FYP\\Aaron-Workspace\\DAM-DHM-V-25.h5\n",
      "Epoch 8/25\n",
      "4591/4591 [==============================] - 403s 88ms/step - loss: 0.5942 - acc: 0.7188 - val_loss: 0.7141 - val_acc: 0.5902\n",
      "\n",
      "Epoch 00008: saving model to C:\\Users\\hong ray\\Desktop\\FYP\\Aaron-Workspace\\DAM-DHM-V-25.h5\n",
      "Epoch 9/25\n",
      "4591/4591 [==============================] - 403s 88ms/step - loss: 0.5944 - acc: 0.7188 - val_loss: 0.7023 - val_acc: 0.5902\n",
      "\n",
      "Epoch 00009: saving model to C:\\Users\\hong ray\\Desktop\\FYP\\Aaron-Workspace\\DAM-DHM-V-25.h5\n",
      "Epoch 10/25\n",
      "4591/4591 [==============================] - 403s 88ms/step - loss: 0.5929 - acc: 0.7188 - val_loss: 0.7096 - val_acc: 0.5902\n",
      "\n",
      "Epoch 00010: saving model to C:\\Users\\hong ray\\Desktop\\FYP\\Aaron-Workspace\\DAM-DHM-V-25.h5\n",
      "Epoch 11/25\n",
      "4591/4591 [==============================] - 403s 88ms/step - loss: 0.5894 - acc: 0.7181 - val_loss: 0.6795 - val_acc: 0.5902\n",
      "\n",
      "Epoch 00011: saving model to C:\\Users\\hong ray\\Desktop\\FYP\\Aaron-Workspace\\DAM-DHM-V-25.h5\n",
      "Epoch 12/25\n",
      "4591/4591 [==============================] - 405s 88ms/step - loss: 0.5642 - acc: 0.7155 - val_loss: 0.6833 - val_acc: 0.5902\n",
      "\n",
      "Epoch 00012: saving model to C:\\Users\\hong ray\\Desktop\\FYP\\Aaron-Workspace\\DAM-DHM-V-25.h5\n",
      "Epoch 13/25\n",
      "4591/4591 [==============================] - 406s 88ms/step - loss: 0.5431 - acc: 0.7266 - val_loss: 0.6746 - val_acc: 0.5851\n",
      "\n",
      "Epoch 00013: saving model to C:\\Users\\hong ray\\Desktop\\FYP\\Aaron-Workspace\\DAM-DHM-V-25.h5\n",
      "Epoch 14/25\n",
      "4591/4591 [==============================] - 408s 89ms/step - loss: 0.5306 - acc: 0.7515 - val_loss: 0.7059 - val_acc: 0.5810\n",
      "\n",
      "Epoch 00014: saving model to C:\\Users\\hong ray\\Desktop\\FYP\\Aaron-Workspace\\DAM-DHM-V-25.h5\n",
      "Epoch 15/25\n",
      "4591/4591 [==============================] - 409s 89ms/step - loss: 0.5154 - acc: 0.7654 - val_loss: 0.8940 - val_acc: 0.5649\n",
      "\n",
      "Epoch 00015: saving model to C:\\Users\\hong ray\\Desktop\\FYP\\Aaron-Workspace\\DAM-DHM-V-25.h5\n",
      "Epoch 16/25\n",
      "4591/4591 [==============================] - 408s 89ms/step - loss: 0.4983 - acc: 0.7789 - val_loss: 0.9644 - val_acc: 0.5902\n",
      "\n",
      "Epoch 00016: saving model to C:\\Users\\hong ray\\Desktop\\FYP\\Aaron-Workspace\\DAM-DHM-V-25.h5\n",
      "Epoch 17/25\n",
      "4591/4591 [==============================] - 408s 89ms/step - loss: 0.4769 - acc: 0.7828 - val_loss: 0.7057 - val_acc: 0.6029\n",
      "\n",
      "Epoch 00017: saving model to C:\\Users\\hong ray\\Desktop\\FYP\\Aaron-Workspace\\DAM-DHM-V-25.h5\n",
      "Epoch 18/25\n",
      "4591/4591 [==============================] - 409s 89ms/step - loss: 0.4590 - acc: 0.8009 - val_loss: 0.7157 - val_acc: 0.5920\n",
      "\n",
      "Epoch 00018: saving model to C:\\Users\\hong ray\\Desktop\\FYP\\Aaron-Workspace\\DAM-DHM-V-25.h5\n",
      "Epoch 19/25\n",
      "4591/4591 [==============================] - 412s 90ms/step - loss: 0.4373 - acc: 0.8068 - val_loss: 0.7790 - val_acc: 0.5230\n",
      "\n",
      "Epoch 00019: saving model to C:\\Users\\hong ray\\Desktop\\FYP\\Aaron-Workspace\\DAM-DHM-V-25.h5\n",
      "Epoch 20/25\n",
      "4591/4591 [==============================] - 411s 89ms/step - loss: 0.4231 - acc: 0.8168 - val_loss: 0.8135 - val_acc: 0.6023\n",
      "\n",
      "Epoch 00020: saving model to C:\\Users\\hong ray\\Desktop\\FYP\\Aaron-Workspace\\DAM-DHM-V-25.h5\n",
      "Epoch 21/25\n",
      "4591/4591 [==============================] - 422s 92ms/step - loss: 0.3912 - acc: 0.8342 - val_loss: 0.8846 - val_acc: 0.5776\n",
      "\n",
      "Epoch 00021: saving model to C:\\Users\\hong ray\\Desktop\\FYP\\Aaron-Workspace\\DAM-DHM-V-25.h5\n",
      "Epoch 22/25\n",
      "4591/4591 [==============================] - 416s 91ms/step - loss: 0.3686 - acc: 0.8421 - val_loss: 0.8995 - val_acc: 0.5724\n",
      "\n",
      "Epoch 00022: saving model to C:\\Users\\hong ray\\Desktop\\FYP\\Aaron-Workspace\\DAM-DHM-V-25.h5\n",
      "Epoch 23/25\n",
      "4591/4591 [==============================] - 415s 90ms/step - loss: 0.3399 - acc: 0.8645 - val_loss: 0.8757 - val_acc: 0.5960\n",
      "\n",
      "Epoch 00023: saving model to C:\\Users\\hong ray\\Desktop\\FYP\\Aaron-Workspace\\DAM-DHM-V-25.h5\n",
      "Epoch 24/25\n",
      "4591/4591 [==============================] - 406s 88ms/step - loss: 0.3278 - acc: 0.8604 - val_loss: 0.9365 - val_acc: 0.5690\n",
      "\n",
      "Epoch 00024: saving model to C:\\Users\\hong ray\\Desktop\\FYP\\Aaron-Workspace\\DAM-DHM-V-25.h5\n",
      "Epoch 25/25\n",
      "4591/4591 [==============================] - 406s 88ms/step - loss: 0.3076 - acc: 0.8739 - val_loss: 1.2592 - val_acc: 0.5920\n",
      "\n",
      "Epoch 00025: saving model to C:\\Users\\hong ray\\Desktop\\FYP\\Aaron-Workspace\\DAM-DHM-V-25.h5\n",
      "1740/1740 [==============================] - 48s 28ms/step\n",
      "_________________________________________________________________\n",
      "Layer (type)                 Output Shape              Param #   \n",
      "=================================================================\n",
      "conv2d_1 (Conv2D)            (None, 101, 1000, 32)     320       \n",
      "_________________________________________________________________\n",
      "conv2d_2 (Conv2D)            (None, 101, 1000, 32)     9248      \n",
      "_________________________________________________________________\n",
      "average_pooling2d_1 (Average (None, 25, 333, 32)       0         \n",
      "_________________________________________________________________\n",
      "conv2d_3 (Conv2D)            (None, 25, 333, 64)       18496     \n",
      "_________________________________________________________________\n",
      "conv2d_4 (Conv2D)            (None, 25, 333, 64)       36928     \n",
      "_________________________________________________________________\n",
      "average_pooling2d_2 (Average (None, 6, 111, 64)        0         \n",
      "_________________________________________________________________\n",
      "conv2d_5 (Conv2D)            (None, 6, 111, 96)        55392     \n",
      "_________________________________________________________________\n",
      "conv2d_6 (Conv2D)            (None, 6, 111, 96)        83040     \n",
      "_________________________________________________________________\n",
      "average_pooling2d_3 (Average (None, 1, 37, 96)         0         \n",
      "_________________________________________________________________\n",
      "flatten_1 (Flatten)          (None, 3552)              0         \n",
      "_________________________________________________________________\n",
      "dense_1 (Dense)              (None, 256)               909568    \n",
      "_________________________________________________________________\n",
      "dense_2 (Dense)              (None, 256)               65792     \n",
      "_________________________________________________________________\n",
      "dense_3 (Dense)              (None, 1)                 257       \n",
      "_________________________________________________________________\n",
      "activation_1 (Activation)    (None, 1)                 0         \n",
      "=================================================================\n",
      "Total params: 1,179,041\n",
      "Trainable params: 1,179,041\n",
      "Non-trainable params: 0\n",
      "_________________________________________________________________\n",
      "acc:  0.7647135700719389\n",
      "val_acc:  0.5919540231255279\n"
     ]
    },
    {
     "data": {
      "image/png": "[encoded data removed]",
      "text/plain": [
       "<Figure size 432x288 with 1 Axes>"
      ]
     },
     "metadata": {
      "needs_background": "light"
     },
     "output_type": "display_data"
    },
    {
     "data": {
      "image/png": "[encoded data removed]",
      "text/plain": [
       "<Figure size 432x288 with 1 Axes>"
      ]
     },
     "metadata": {
      "needs_background": "light"
     },
     "output_type": "display_data"
    }
   ],
   "source": [
    "# run CNN model\n",
    "model, val_acc = evaluate_model(newNPX, newNPX_test, npY, npY_test) "
   ]
  },
  {
   "cell_type": "code",
   "execution_count": 28,
   "metadata": {},
   "outputs": [
    {
     "name": "stdout",
     "output_type": "stream",
     "text": [
      "['loss', 'acc']\n",
      "Train on 4131 samples, validate on 460 samples\n",
      "Epoch 1/25\n",
      "4131/4131 [==============================] - 335s 81ms/step - loss: 0.6486 - acc: 0.7160 - val_loss: 0.6191 - val_acc: 0.7304\n",
      "\n",
      "Epoch 00001: saving model to C:\\Users\\hong ray\\Desktop\\FYP\\Aaron-Workspace\\DAM-DHM-V-25.h5\n",
      "Epoch 2/25\n",
      "4131/4131 [==============================] - 334s 81ms/step - loss: 0.6061 - acc: 0.7175 - val_loss: 0.5849 - val_acc: 0.7304\n",
      "\n",
      "Epoch 00002: saving model to C:\\Users\\hong ray\\Desktop\\FYP\\Aaron-Workspace\\DAM-DHM-V-25.h5\n",
      "Epoch 3/25\n",
      "4131/4131 [==============================] - 333s 81ms/step - loss: 0.5988 - acc: 0.7146 - val_loss: 1.1329 - val_acc: 0.7304\n",
      "\n",
      "Epoch 00003: saving model to C:\\Users\\hong ray\\Desktop\\FYP\\Aaron-Workspace\\DAM-DHM-V-25.h5\n",
      "Epoch 4/25\n",
      "4131/4131 [==============================] - 333s 81ms/step - loss: 0.6103 - acc: 0.7175 - val_loss: 0.5838 - val_acc: 0.7304\n",
      "\n",
      "Epoch 00004: saving model to C:\\Users\\hong ray\\Desktop\\FYP\\Aaron-Workspace\\DAM-DHM-V-25.h5\n",
      "Epoch 5/25\n",
      "4131/4131 [==============================] - 333s 81ms/step - loss: 0.5962 - acc: 0.7175 - val_loss: 0.5850 - val_acc: 0.7304\n",
      "\n",
      "Epoch 00005: saving model to C:\\Users\\hong ray\\Desktop\\FYP\\Aaron-Workspace\\DAM-DHM-V-25.h5\n",
      "Epoch 6/25\n",
      "4131/4131 [==============================] - 334s 81ms/step - loss: 0.5969 - acc: 0.7175 - val_loss: 0.5828 - val_acc: 0.7304\n",
      "\n",
      "Epoch 00006: saving model to C:\\Users\\hong ray\\Desktop\\FYP\\Aaron-Workspace\\DAM-DHM-V-25.h5\n",
      "Epoch 7/25\n",
      "4131/4131 [==============================] - 335s 81ms/step - loss: 0.5973 - acc: 0.7175 - val_loss: 0.5874 - val_acc: 0.7304\n",
      "\n",
      "Epoch 00007: saving model to C:\\Users\\hong ray\\Desktop\\FYP\\Aaron-Workspace\\DAM-DHM-V-25.h5\n",
      "Epoch 8/25\n",
      "4131/4131 [==============================] - 339s 82ms/step - loss: 0.5929 - acc: 0.7131 - val_loss: 0.6013 - val_acc: 0.7304\n",
      "\n",
      "Epoch 00008: saving model to C:\\Users\\hong ray\\Desktop\\FYP\\Aaron-Workspace\\DAM-DHM-V-25.h5\n",
      "Epoch 9/25\n",
      "2400/4131 [================>.............] - ETA: 2:18 - loss: 0.5916 - acc: 0.7096"
     ]
    },
    {
     "ename": "KeyboardInterrupt",
     "evalue": "",
     "output_type": "error",
     "traceback": [
      "\u001b[1;31m---------------------------------------------------------------------------\u001b[0m",
      "\u001b[1;31mKeyboardInterrupt\u001b[0m                         Traceback (most recent call last)",
      "\u001b[1;32m<ipython-input-28-a8f031bf6605>\u001b[0m in \u001b[0;36m<module>\u001b[1;34m\u001b[0m\n\u001b[0;32m      8\u001b[0m     \u001b[0mX_train\u001b[0m\u001b[1;33m,\u001b[0m \u001b[0mX_val\u001b[0m\u001b[1;33m,\u001b[0m \u001b[0my_train\u001b[0m\u001b[1;33m,\u001b[0m \u001b[0my_val\u001b[0m \u001b[1;33m=\u001b[0m \u001b[0mtrain_test_split\u001b[0m\u001b[1;33m(\u001b[0m\u001b[0mnewNPX\u001b[0m\u001b[1;33m,\u001b[0m \u001b[0mnpY\u001b[0m\u001b[1;33m,\u001b[0m \u001b[0mtest_size\u001b[0m\u001b[1;33m=\u001b[0m\u001b[1;36m0.10\u001b[0m\u001b[1;33m,\u001b[0m \u001b[0mrandom_state\u001b[0m \u001b[1;33m=\u001b[0m \u001b[0mnp\u001b[0m\u001b[1;33m.\u001b[0m\u001b[0mrandom\u001b[0m\u001b[1;33m.\u001b[0m\u001b[0mrandint\u001b[0m\u001b[1;33m(\u001b[0m\u001b[1;36m1\u001b[0m\u001b[1;33m,\u001b[0m\u001b[1;36m1000\u001b[0m\u001b[1;33m,\u001b[0m \u001b[1;36m1\u001b[0m\u001b[1;33m)\u001b[0m\u001b[1;33m[\u001b[0m\u001b[1;36m0\u001b[0m\u001b[1;33m]\u001b[0m\u001b[1;33m)\u001b[0m\u001b[1;33m\u001b[0m\u001b[1;33m\u001b[0m\u001b[0m\n\u001b[0;32m      9\u001b[0m     \u001b[1;31m# evaluate model\u001b[0m\u001b[1;33m\u001b[0m\u001b[1;33m\u001b[0m\u001b[1;33m\u001b[0m\u001b[0m\n\u001b[1;32m---> 10\u001b[1;33m     \u001b[0mmodel\u001b[0m\u001b[1;33m,\u001b[0m \u001b[0mtest_acc\u001b[0m \u001b[1;33m=\u001b[0m \u001b[0mevaluate_model\u001b[0m\u001b[1;33m(\u001b[0m\u001b[0mX_train\u001b[0m\u001b[1;33m,\u001b[0m \u001b[0mX_val\u001b[0m\u001b[1;33m,\u001b[0m \u001b[0my_train\u001b[0m\u001b[1;33m,\u001b[0m \u001b[0my_val\u001b[0m\u001b[1;33m)\u001b[0m\u001b[1;33m\u001b[0m\u001b[1;33m\u001b[0m\u001b[0m\n\u001b[0m\u001b[0;32m     11\u001b[0m     \u001b[0mcount\u001b[0m \u001b[1;33m+=\u001b[0m \u001b[1;36m1\u001b[0m\u001b[1;33m\u001b[0m\u001b[1;33m\u001b[0m\u001b[0m\n\u001b[0;32m     12\u001b[0m     \u001b[0mcv_scores\u001b[0m\u001b[1;33m.\u001b[0m\u001b[0mappend\u001b[0m\u001b[1;33m(\u001b[0m\u001b[0mtest_acc\u001b[0m\u001b[1;33m)\u001b[0m\u001b[1;33m\u001b[0m\u001b[1;33m\u001b[0m\u001b[0m\n",
      "\u001b[1;32m<ipython-input-26-38a9adda462f>\u001b[0m in \u001b[0;36mevaluate_model\u001b[1;34m(X_train, X_val, y_train, y_val)\u001b[0m\n\u001b[0;32m     33\u001b[0m     \u001b[0mcallbacks\u001b[0m \u001b[1;33m=\u001b[0m \u001b[1;33m[\u001b[0m\u001b[0mEarlyStopping\u001b[0m\u001b[1;33m(\u001b[0m\u001b[0mmonitor\u001b[0m\u001b[1;33m=\u001b[0m\u001b[1;34m'val_acc'\u001b[0m\u001b[1;33m,\u001b[0m \u001b[0mpatience\u001b[0m \u001b[1;33m=\u001b[0m \u001b[1;36m10\u001b[0m\u001b[1;33m)\u001b[0m\u001b[1;33m]\u001b[0m\u001b[1;33m\u001b[0m\u001b[1;33m\u001b[0m\u001b[0m\n\u001b[0;32m     34\u001b[0m \u001b[1;33m\u001b[0m\u001b[0m\n\u001b[1;32m---> 35\u001b[1;33m     \u001b[0mhist\u001b[0m\u001b[1;33m=\u001b[0m\u001b[0mmodel\u001b[0m\u001b[1;33m.\u001b[0m\u001b[0mfit\u001b[0m\u001b[1;33m(\u001b[0m\u001b[0mx\u001b[0m\u001b[1;33m=\u001b[0m\u001b[0mX_train\u001b[0m\u001b[1;33m,\u001b[0m \u001b[0my\u001b[0m\u001b[1;33m=\u001b[0m\u001b[0my_train\u001b[0m\u001b[1;33m,\u001b[0m \u001b[0mbatch_size\u001b[0m\u001b[1;33m=\u001b[0m\u001b[1;36m32\u001b[0m\u001b[1;33m,\u001b[0m \u001b[0mepochs\u001b[0m\u001b[1;33m=\u001b[0m\u001b[0mnumEpochs\u001b[0m\u001b[1;33m,\u001b[0m \u001b[0mcallbacks\u001b[0m\u001b[1;33m=\u001b[0m\u001b[0mcallbacks_list\u001b[0m\u001b[1;33m,\u001b[0m \u001b[0mvalidation_data\u001b[0m\u001b[1;33m=\u001b[0m\u001b[1;33m(\u001b[0m\u001b[0mX_val\u001b[0m\u001b[1;33m,\u001b[0m \u001b[0my_val\u001b[0m\u001b[1;33m)\u001b[0m\u001b[1;33m)\u001b[0m\u001b[1;33m\u001b[0m\u001b[1;33m\u001b[0m\u001b[0m\n\u001b[0m\u001b[0;32m     36\u001b[0m \u001b[1;33m\u001b[0m\u001b[0m\n\u001b[0;32m     37\u001b[0m     \u001b[0m_\u001b[0m\u001b[1;33m,\u001b[0m \u001b[0mval_acc\u001b[0m\u001b[1;33m=\u001b[0m\u001b[0mmodel\u001b[0m\u001b[1;33m.\u001b[0m\u001b[0mevaluate\u001b[0m\u001b[1;33m(\u001b[0m\u001b[0mx\u001b[0m\u001b[1;33m=\u001b[0m\u001b[0mX_val\u001b[0m\u001b[1;33m,\u001b[0m \u001b[0my\u001b[0m\u001b[1;33m=\u001b[0m\u001b[0my_val\u001b[0m\u001b[1;33m,\u001b[0m \u001b[0mverbose\u001b[0m\u001b[1;33m=\u001b[0m\u001b[1;36m1\u001b[0m\u001b[1;33m)\u001b[0m\u001b[1;33m\u001b[0m\u001b[1;33m\u001b[0m\u001b[0m\n",
      "\u001b[1;32m~\\Anaconda3\\lib\\site-packages\\keras\\engine\\training.py\u001b[0m in \u001b[0;36mfit\u001b[1;34m(self, x, y, batch_size, epochs, verbose, callbacks, validation_split, validation_data, shuffle, class_weight, sample_weight, initial_epoch, steps_per_epoch, validation_steps, **kwargs)\u001b[0m\n\u001b[0;32m   1037\u001b[0m                                         \u001b[0minitial_epoch\u001b[0m\u001b[1;33m=\u001b[0m\u001b[0minitial_epoch\u001b[0m\u001b[1;33m,\u001b[0m\u001b[1;33m\u001b[0m\u001b[1;33m\u001b[0m\u001b[0m\n\u001b[0;32m   1038\u001b[0m                                         \u001b[0msteps_per_epoch\u001b[0m\u001b[1;33m=\u001b[0m\u001b[0msteps_per_epoch\u001b[0m\u001b[1;33m,\u001b[0m\u001b[1;33m\u001b[0m\u001b[1;33m\u001b[0m\u001b[0m\n\u001b[1;32m-> 1039\u001b[1;33m                                         validation_steps=validation_steps)\n\u001b[0m\u001b[0;32m   1040\u001b[0m \u001b[1;33m\u001b[0m\u001b[0m\n\u001b[0;32m   1041\u001b[0m     def evaluate(self, x=None, y=None,\n",
      "\u001b[1;32m~\\Anaconda3\\lib\\site-packages\\keras\\engine\\training_arrays.py\u001b[0m in \u001b[0;36mfit_loop\u001b[1;34m(model, f, ins, out_labels, batch_size, epochs, verbose, callbacks, val_f, val_ins, shuffle, callback_metrics, initial_epoch, steps_per_epoch, validation_steps)\u001b[0m\n\u001b[0;32m    197\u001b[0m                     \u001b[0mins_batch\u001b[0m\u001b[1;33m[\u001b[0m\u001b[0mi\u001b[0m\u001b[1;33m]\u001b[0m \u001b[1;33m=\u001b[0m \u001b[0mins_batch\u001b[0m\u001b[1;33m[\u001b[0m\u001b[0mi\u001b[0m\u001b[1;33m]\u001b[0m\u001b[1;33m.\u001b[0m\u001b[0mtoarray\u001b[0m\u001b[1;33m(\u001b[0m\u001b[1;33m)\u001b[0m\u001b[1;33m\u001b[0m\u001b[1;33m\u001b[0m\u001b[0m\n\u001b[0;32m    198\u001b[0m \u001b[1;33m\u001b[0m\u001b[0m\n\u001b[1;32m--> 199\u001b[1;33m                 \u001b[0mouts\u001b[0m \u001b[1;33m=\u001b[0m \u001b[0mf\u001b[0m\u001b[1;33m(\u001b[0m\u001b[0mins_batch\u001b[0m\u001b[1;33m)\u001b[0m\u001b[1;33m\u001b[0m\u001b[1;33m\u001b[0m\u001b[0m\n\u001b[0m\u001b[0;32m    200\u001b[0m                 \u001b[0mouts\u001b[0m \u001b[1;33m=\u001b[0m \u001b[0mto_list\u001b[0m\u001b[1;33m(\u001b[0m\u001b[0mouts\u001b[0m\u001b[1;33m)\u001b[0m\u001b[1;33m\u001b[0m\u001b[1;33m\u001b[0m\u001b[0m\n\u001b[0;32m    201\u001b[0m                 \u001b[1;32mfor\u001b[0m \u001b[0ml\u001b[0m\u001b[1;33m,\u001b[0m \u001b[0mo\u001b[0m \u001b[1;32min\u001b[0m \u001b[0mzip\u001b[0m\u001b[1;33m(\u001b[0m\u001b[0mout_labels\u001b[0m\u001b[1;33m,\u001b[0m \u001b[0mouts\u001b[0m\u001b[1;33m)\u001b[0m\u001b[1;33m:\u001b[0m\u001b[1;33m\u001b[0m\u001b[1;33m\u001b[0m\u001b[0m\n",
      "\u001b[1;32m~\\Anaconda3\\lib\\site-packages\\keras\\backend\\tensorflow_backend.py\u001b[0m in \u001b[0;36m__call__\u001b[1;34m(self, inputs)\u001b[0m\n\u001b[0;32m   2713\u001b[0m                 \u001b[1;32mreturn\u001b[0m \u001b[0mself\u001b[0m\u001b[1;33m.\u001b[0m\u001b[0m_legacy_call\u001b[0m\u001b[1;33m(\u001b[0m\u001b[0minputs\u001b[0m\u001b[1;33m)\u001b[0m\u001b[1;33m\u001b[0m\u001b[1;33m\u001b[0m\u001b[0m\n\u001b[0;32m   2714\u001b[0m \u001b[1;33m\u001b[0m\u001b[0m\n\u001b[1;32m-> 2715\u001b[1;33m             \u001b[1;32mreturn\u001b[0m \u001b[0mself\u001b[0m\u001b[1;33m.\u001b[0m\u001b[0m_call\u001b[0m\u001b[1;33m(\u001b[0m\u001b[0minputs\u001b[0m\u001b[1;33m)\u001b[0m\u001b[1;33m\u001b[0m\u001b[1;33m\u001b[0m\u001b[0m\n\u001b[0m\u001b[0;32m   2716\u001b[0m         \u001b[1;32melse\u001b[0m\u001b[1;33m:\u001b[0m\u001b[1;33m\u001b[0m\u001b[1;33m\u001b[0m\u001b[0m\n\u001b[0;32m   2717\u001b[0m             \u001b[1;32mif\u001b[0m \u001b[0mpy_any\u001b[0m\u001b[1;33m(\u001b[0m\u001b[0mis_tensor\u001b[0m\u001b[1;33m(\u001b[0m\u001b[0mx\u001b[0m\u001b[1;33m)\u001b[0m \u001b[1;32mfor\u001b[0m \u001b[0mx\u001b[0m \u001b[1;32min\u001b[0m \u001b[0minputs\u001b[0m\u001b[1;33m)\u001b[0m\u001b[1;33m:\u001b[0m\u001b[1;33m\u001b[0m\u001b[1;33m\u001b[0m\u001b[0m\n",
      "\u001b[1;32m~\\Anaconda3\\lib\\site-packages\\keras\\backend\\tensorflow_backend.py\u001b[0m in \u001b[0;36m_call\u001b[1;34m(self, inputs)\u001b[0m\n\u001b[0;32m   2673\u001b[0m             \u001b[0mfetched\u001b[0m \u001b[1;33m=\u001b[0m \u001b[0mself\u001b[0m\u001b[1;33m.\u001b[0m\u001b[0m_callable_fn\u001b[0m\u001b[1;33m(\u001b[0m\u001b[1;33m*\u001b[0m\u001b[0marray_vals\u001b[0m\u001b[1;33m,\u001b[0m \u001b[0mrun_metadata\u001b[0m\u001b[1;33m=\u001b[0m\u001b[0mself\u001b[0m\u001b[1;33m.\u001b[0m\u001b[0mrun_metadata\u001b[0m\u001b[1;33m)\u001b[0m\u001b[1;33m\u001b[0m\u001b[1;33m\u001b[0m\u001b[0m\n\u001b[0;32m   2674\u001b[0m         \u001b[1;32melse\u001b[0m\u001b[1;33m:\u001b[0m\u001b[1;33m\u001b[0m\u001b[1;33m\u001b[0m\u001b[0m\n\u001b[1;32m-> 2675\u001b[1;33m             \u001b[0mfetched\u001b[0m \u001b[1;33m=\u001b[0m \u001b[0mself\u001b[0m\u001b[1;33m.\u001b[0m\u001b[0m_callable_fn\u001b[0m\u001b[1;33m(\u001b[0m\u001b[1;33m*\u001b[0m\u001b[0marray_vals\u001b[0m\u001b[1;33m)\u001b[0m\u001b[1;33m\u001b[0m\u001b[1;33m\u001b[0m\u001b[0m\n\u001b[0m\u001b[0;32m   2676\u001b[0m         \u001b[1;32mreturn\u001b[0m \u001b[0mfetched\u001b[0m\u001b[1;33m[\u001b[0m\u001b[1;33m:\u001b[0m\u001b[0mlen\u001b[0m\u001b[1;33m(\u001b[0m\u001b[0mself\u001b[0m\u001b[1;33m.\u001b[0m\u001b[0moutputs\u001b[0m\u001b[1;33m)\u001b[0m\u001b[1;33m]\u001b[0m\u001b[1;33m\u001b[0m\u001b[1;33m\u001b[0m\u001b[0m\n\u001b[0;32m   2677\u001b[0m \u001b[1;33m\u001b[0m\u001b[0m\n",
      "\u001b[1;32m~\\Anaconda3\\lib\\site-packages\\tensorflow\\python\\client\\session.py\u001b[0m in \u001b[0;36m__call__\u001b[1;34m(self, *args, **kwargs)\u001b[0m\n\u001b[0;32m   1437\u001b[0m           ret = tf_session.TF_SessionRunCallable(\n\u001b[0;32m   1438\u001b[0m               \u001b[0mself\u001b[0m\u001b[1;33m.\u001b[0m\u001b[0m_session\u001b[0m\u001b[1;33m.\u001b[0m\u001b[0m_session\u001b[0m\u001b[1;33m,\u001b[0m \u001b[0mself\u001b[0m\u001b[1;33m.\u001b[0m\u001b[0m_handle\u001b[0m\u001b[1;33m,\u001b[0m \u001b[0margs\u001b[0m\u001b[1;33m,\u001b[0m \u001b[0mstatus\u001b[0m\u001b[1;33m,\u001b[0m\u001b[1;33m\u001b[0m\u001b[1;33m\u001b[0m\u001b[0m\n\u001b[1;32m-> 1439\u001b[1;33m               run_metadata_ptr)\n\u001b[0m\u001b[0;32m   1440\u001b[0m         \u001b[1;32mif\u001b[0m \u001b[0mrun_metadata\u001b[0m\u001b[1;33m:\u001b[0m\u001b[1;33m\u001b[0m\u001b[1;33m\u001b[0m\u001b[0m\n\u001b[0;32m   1441\u001b[0m           \u001b[0mproto_data\u001b[0m \u001b[1;33m=\u001b[0m \u001b[0mtf_session\u001b[0m\u001b[1;33m.\u001b[0m\u001b[0mTF_GetBuffer\u001b[0m\u001b[1;33m(\u001b[0m\u001b[0mrun_metadata_ptr\u001b[0m\u001b[1;33m)\u001b[0m\u001b[1;33m\u001b[0m\u001b[1;33m\u001b[0m\u001b[0m\n",
      "\u001b[1;31mKeyboardInterrupt\u001b[0m: "
     ]
    }
   ],
   "source": [
    "# k-fold cross validation, k = n_folds\n",
    "\n",
    "n_folds = 4\n",
    "count = 0\n",
    "cv_scores, model_history = list(), list()\n",
    "for _ in range(n_folds):\n",
    "    # split data\n",
    "    X_train, X_val, y_train, y_val = train_test_split(newNPX, npY, test_size=0.10, random_state = np.random.randint(1,1000, 1)[0])\n",
    "    # evaluate model\n",
    "    model, test_acc = evaluate_model(X_train, X_val, y_train, y_val)\n",
    "    count += 1\n",
    "    cv_scores.append(test_acc)\n",
    "    model_history.append(model)\n",
    "    print('K-Fold has ran ', count, ' time(s)')\n",
    "    \n",
    "print('\\nModel Accuracy after all K-Fold: ', (np.mean(cv_scores)))"
   ]
  },
  {
   "cell_type": "code",
   "execution_count": null,
   "metadata": {},
   "outputs": [],
   "source": [
    "result = model.predict(newNPX_v)\n",
    "for each in result:\n",
    "    print(each)"
   ]
  },
  {
   "cell_type": "code",
   "execution_count": null,
   "metadata": {},
   "outputs": [],
   "source": [
    "np.mean(cv_scores)"
   ]
  },
  {
   "cell_type": "code",
   "execution_count": null,
   "metadata": {},
   "outputs": [],
   "source": []
  },
  {
   "cell_type": "code",
   "execution_count": null,
   "metadata": {},
   "outputs": [],
   "source": []
  },
  {
   "cell_type": "code",
   "execution_count": null,
   "metadata": {},
   "outputs": [],
   "source": []
  },
  {
   "cell_type": "code",
   "execution_count": null,
   "metadata": {},
   "outputs": [],
   "source": []
  },
  {
   "cell_type": "code",
   "execution_count": null,
   "metadata": {},
   "outputs": [],
   "source": []
  },
  {
   "cell_type": "code",
   "execution_count": null,
   "metadata": {},
   "outputs": [],
   "source": []
  },
  {
   "cell_type": "code",
   "execution_count": null,
   "metadata": {},
   "outputs": [],
   "source": []
  },
  {
   "cell_type": "code",
   "execution_count": null,
   "metadata": {},
   "outputs": [],
   "source": []
  },
  {
   "cell_type": "code",
   "execution_count": null,
   "metadata": {},
   "outputs": [],
   "source": []
  }
 ],
 "metadata": {
  "kernelspec": {
   "display_name": "Python 3",
   "language": "python",
   "name": "python3"
  },
  "language_info": {
   "codemirror_mode": {
    "name": "ipython",
    "version": 3
   },
   "file_extension": ".py",
   "mimetype": "text/x-python",
   "name": "python",
   "nbconvert_exporter": "python",
   "pygments_lexer": "ipython3",
   "version": "3.7.3"
  }
 },
 "nbformat": 4,
 "nbformat_minor": 2
}
