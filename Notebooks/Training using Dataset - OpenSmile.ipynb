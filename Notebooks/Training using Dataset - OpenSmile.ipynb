{
 "cells": [
  {
   "cell_type": "code",
   "execution_count": 1,
   "metadata": {},
   "outputs": [],
   "source": [
    "# import arff\n",
    "from scipy.io import arff\n",
    "import os\n",
    "import numpy as np\n",
    "import pandas as pd\n",
    "import csv\n",
    "import matplotlib.pyplot as plt\n",
    "import matplotlib.pylab as plb\n",
    "# import cv2"
   ]
  },
  {
   "cell_type": "code",
   "execution_count": 2,
   "metadata": {},
   "outputs": [],
   "source": [
    "import sklearn\n",
    "import pandas as pd\n",
    "from sklearn.model_selection import train_test_split\n",
    "# X_train, X_test, y_train, y_test = train_test_split(X, y, test_size = 0.2, random_state = 0)"
   ]
  },
  {
   "cell_type": "code",
   "execution_count": 3,
   "metadata": {},
   "outputs": [],
   "source": [
    "currentDir = os.getcwd()\n",
    "datasetDir = currentDir + \"/OpenSMILE/\"\n",
    "# trainDir = os.path.join(datasetDir, \"train\")\n",
    "# testDir = os.path.join(datasetDir, \"test\")\n",
    "# validDir = os.path.join(datasetDir, \"valid\")\n",
    "# y_dataDir = os.path.join(datasetDir, \"y_data\")"
   ]
  },
  {
   "cell_type": "code",
   "execution_count": 4,
   "metadata": {},
   "outputs": [
    {
     "data": {
      "text/plain": [
       "array([[ 2.40e-02,  1.33e-04,  2.39e-02, ...,  1.82e+01,  8.40e-03,\n",
       "         8.86e+00],\n",
       "       [ 2.54e-02,  1.30e-04,  2.53e-02, ...,  1.75e+01, -4.91e-02,\n",
       "         1.22e+01],\n",
       "       [ 1.38e-01,  2.01e-05,  1.38e-01, ...,  2.09e+01, -1.97e-02,\n",
       "         1.20e+01],\n",
       "       ...,\n",
       "       [ 5.70e-03,  0.00e+00,  5.70e-03, ...,  2.02e+01, -6.80e-02,\n",
       "         9.53e+00],\n",
       "       [ 5.90e-03,  0.00e+00,  5.90e-03, ...,  1.85e+01, -6.85e-03,\n",
       "         1.24e+01],\n",
       "       [ 1.60e-02,  0.00e+00,  1.60e-02, ...,  1.43e+01, -1.36e-01,\n",
       "         3.31e+01]], dtype=float32)"
      ]
     },
     "execution_count": 4,
     "metadata": {},
     "output_type": "execute_result"
    }
   ],
   "source": [
    "data = arff.loadarff(os.path.join(datasetDir, 'train_split_Depression_AVEC2017 - Without Unknown.arff'))\n",
    "df = pd.DataFrame(data[0])\n",
    "\n",
    "# df.head()\n",
    "# df.tail()\n",
    "df.drop(['name'], axis = 1) #0 for row, 1 for column\n",
    "y_train = df['PHQ8_Binary'].values.astype(int)\n",
    "\n",
    "x_train = df.drop(['name', 'PHQ8_Binary'], axis = 1).values.astype(np.float32)\n",
    "x_train"
   ]
  },
  {
   "cell_type": "code",
   "execution_count": 5,
   "metadata": {},
   "outputs": [
    {
     "data": {
      "text/plain": [
       "array([0, 0, 0, 0, 0, 0, 0, 0, 0, 1, 0, 0, 1, 0, 0, 0, 1, 1, 0, 1, 1, 1,\n",
       "       1, 1, 1, 1, 1, 1, 0, 0, 1, 0, 0, 0, 0, 0, 0, 0, 1, 0, 0, 1, 0, 1,\n",
       "       0, 0, 1, 0, 0, 0, 0, 0, 0, 0, 1, 1, 0, 0, 0, 0, 0, 1, 0, 0, 0, 0,\n",
       "       1, 0, 0, 1, 0, 0, 0, 0, 0, 1, 0, 0, 0, 0, 0, 1, 0, 0, 0, 0, 0, 0,\n",
       "       0, 0, 0, 0, 0, 0, 0, 0])"
      ]
     },
     "execution_count": 5,
     "metadata": {},
     "output_type": "execute_result"
    }
   ],
   "source": [
    "y_train"
   ]
  },
  {
   "cell_type": "code",
   "execution_count": 6,
   "metadata": {},
   "outputs": [
    {
     "name": "stderr",
     "output_type": "stream",
     "text": [
      "Using TensorFlow backend.\n"
     ]
    }
   ],
   "source": [
    "import keras\n",
    "from keras.datasets import mnist\n",
    "from keras.models import Sequential\n",
    "from keras.layers import Dense, Dropout, Flatten, Activation\n",
    "\n",
    "from keras.layers import Conv2D, MaxPooling2D\n",
    "from keras import backend as K\n",
    "\n",
    "import tensorflow as tf"
   ]
  },
  {
   "cell_type": "code",
   "execution_count": 13,
   "metadata": {},
   "outputs": [],
   "source": [
    "\n",
    "np.savetxt(\"SingleRow2.csv\", x_train[9], delimiter=\",\")"
   ]
  },
  {
   "cell_type": "code",
   "execution_count": 12,
   "metadata": {},
   "outputs": [
    {
     "data": {
      "text/plain": [
       "384"
      ]
     },
     "execution_count": 12,
     "metadata": {},
     "output_type": "execute_result"
    }
   ],
   "source": [
    "len(x_train[0])"
   ]
  },
  {
   "cell_type": "code",
   "execution_count": null,
   "metadata": {},
   "outputs": [],
   "source": []
  },
  {
   "cell_type": "code",
   "execution_count": 18,
   "metadata": {},
   "outputs": [],
   "source": [
    "model = Sequential()\n",
    "model.add(Dense(64, input_dim=384, activation='relu'))\n",
    "model.add(Dropout(0.5))\n",
    "model.add(Dense(64, activation='relu'))\n",
    "model.add(Dropout(0.5))\n",
    "model.add(Dense(1, activation='sigmoid'))\n",
    "\n",
    "# from keras.models import Sequential \n",
    "# from keras.layers import Dense, Activation \n",
    "# output_dim = 2\n",
    "# model = Sequential() \n",
    "# model.add(Dense(output_dim, input_dim=384, activation='softmax')) \n",
    "# batch_size = 128 \n",
    "# nb_epoch = 20\n",
    "\n",
    "# model.compile(optimizer='sgd', loss='sparse_categorical_crossentropy', metrics=['accuracy']) \n",
    "# history = model.fit(X_train, Y_train, batch_size=batch_size, nb_epoch=nb_epoch,verbose=1, validation_data=(X_test, Y_test)) \n",
    "# score = model.evaluate(X_test, Y_test, verbose=0) \n",
    "# print('Test score:', score[0]) \n",
    "# print('Test accuracy:', score[1])\n",
    "\n",
    "model.compile(loss='binary_crossentropy',\n",
    "              optimizer='rmsprop',\n",
    "              metrics=['accuracy'])"
   ]
  },
  {
   "cell_type": "code",
   "execution_count": 19,
   "metadata": {},
   "outputs": [
    {
     "name": "stdout",
     "output_type": "stream",
     "text": [
      "Epoch 1/50\n",
      "96/96 [==============================] - 1s 12ms/step - loss: 5.5040 - acc: 0.6562\n",
      "Epoch 2/50\n",
      "96/96 [==============================] - 0s 79us/step - loss: 5.3489 - acc: 0.6667\n",
      "Epoch 3/50\n",
      "96/96 [==============================] - 0s 73us/step - loss: 6.9756 - acc: 0.5625\n",
      "Epoch 4/50\n",
      "96/96 [==============================] - 0s 103us/step - loss: 4.8507 - acc: 0.6979\n",
      "Epoch 5/50\n",
      "96/96 [==============================] - 0s 71us/step - loss: 5.6737 - acc: 0.6458\n",
      "Epoch 6/50\n",
      "96/96 [==============================] - 0s 77us/step - loss: 5.1847 - acc: 0.6771\n",
      "Epoch 7/50\n",
      "96/96 [==============================] - 0s 67us/step - loss: 7.0096 - acc: 0.5625\n",
      "Epoch 8/50\n",
      "96/96 [==============================] - 0s 80us/step - loss: 6.0150 - acc: 0.6250\n",
      "Epoch 9/50\n",
      "96/96 [==============================] - 0s 80us/step - loss: 5.3434 - acc: 0.6667\n",
      "Epoch 10/50\n",
      "96/96 [==============================] - 0s 90us/step - loss: 5.6792 - acc: 0.6458\n",
      "Epoch 11/50\n",
      "96/96 [==============================] - 0s 81us/step - loss: 6.1811 - acc: 0.6146\n",
      "Epoch 12/50\n",
      "96/96 [==============================] - 0s 145us/step - loss: 6.1811 - acc: 0.6146\n",
      "Epoch 13/50\n",
      "96/96 [==============================] - 0s 87us/step - loss: 5.5095 - acc: 0.6562\n",
      "Epoch 14/50\n",
      "96/96 [==============================] - 0s 79us/step - loss: 5.0168 - acc: 0.6875\n",
      "Epoch 15/50\n",
      "96/96 [==============================] - 0s 101us/step - loss: 5.6774 - acc: 0.6458\n",
      "Epoch 16/50\n",
      "96/96 [==============================] - 0s 75us/step - loss: 5.5150 - acc: 0.6562\n",
      "Epoch 17/50\n",
      "96/96 [==============================] - 0s 76us/step - loss: 6.5169 - acc: 0.5938\n",
      "Epoch 18/50\n",
      "96/96 [==============================] - 0s 88us/step - loss: 5.6810 - acc: 0.6458\n",
      "Epoch 19/50\n",
      "96/96 [==============================] - 0s 88us/step - loss: 6.3471 - acc: 0.6042\n",
      "Epoch 20/50\n",
      "96/96 [==============================] - 0s 68us/step - loss: 4.6828 - acc: 0.7083\n",
      "Epoch 21/50\n",
      "96/96 [==============================] - 0s 87us/step - loss: 6.8472 - acc: 0.5729\n",
      "Epoch 22/50\n",
      "96/96 [==============================] - 0s 76us/step - loss: 6.3453 - acc: 0.6042\n",
      "Epoch 23/50\n",
      "96/96 [==============================] - 0s 109us/step - loss: 7.0114 - acc: 0.5625\n",
      "Epoch 24/50\n",
      "96/96 [==============================] - 0s 83us/step - loss: 7.1756 - acc: 0.5521\n",
      "Epoch 25/50\n",
      "96/96 [==============================] - 0s 100us/step - loss: 4.8507 - acc: 0.6979\n",
      "Epoch 26/50\n",
      "96/96 [==============================] - 0s 69us/step - loss: 4.8480 - acc: 0.6979\n",
      "Epoch 27/50\n",
      "96/96 [==============================] - 0s 130us/step - loss: 6.0223 - acc: 0.6250\n",
      "Epoch 28/50\n",
      "96/96 [==============================] - 0s 69us/step - loss: 5.8526 - acc: 0.6354\n",
      "Epoch 29/50\n",
      "96/96 [==============================] - 0s 74us/step - loss: 5.1847 - acc: 0.6771\n",
      "Epoch 30/50\n",
      "96/96 [==============================] - 0s 82us/step - loss: 6.1847 - acc: 0.6146\n",
      "Epoch 31/50\n",
      "96/96 [==============================] - 0s 64us/step - loss: 5.0131 - acc: 0.6875\n",
      "Epoch 32/50\n",
      "96/96 [==============================] - 0s 71us/step - loss: 5.5150 - acc: 0.6562\n",
      "Epoch 33/50\n",
      "96/96 [==============================] - 0s 79us/step - loss: 4.5186 - acc: 0.7188\n",
      "Epoch 34/50\n",
      "96/96 [==============================] - 0s 107us/step - loss: 6.0168 - acc: 0.6250\n",
      "Epoch 35/50\n",
      "96/96 [==============================] - 0s 75us/step - loss: 6.0150 - acc: 0.6250\n",
      "Epoch 36/50\n",
      "96/96 [==============================] - 0s 69us/step - loss: 5.8489 - acc: 0.6354\n",
      "Epoch 37/50\n",
      "96/96 [==============================] - 0s 77us/step - loss: 4.8507 - acc: 0.6979\n",
      "Epoch 38/50\n",
      "96/96 [==============================] - 0s 70us/step - loss: 5.1865 - acc: 0.6771\n",
      "Epoch 39/50\n",
      "96/96 [==============================] - 0s 69us/step - loss: 5.3507 - acc: 0.6667\n",
      "Epoch 40/50\n",
      "96/96 [==============================] - 0s 84us/step - loss: 5.0204 - acc: 0.6875\n",
      "Epoch 41/50\n",
      "96/96 [==============================] - 0s 72us/step - loss: 5.6810 - acc: 0.6458\n",
      "Epoch 42/50\n",
      "96/96 [==============================] - 0s 73us/step - loss: 6.1829 - acc: 0.6146\n",
      "Epoch 43/50\n",
      "96/96 [==============================] - 0s 67us/step - loss: 6.0150 - acc: 0.6250\n",
      "Epoch 44/50\n",
      "96/96 [==============================] - 0s 76us/step - loss: 5.1883 - acc: 0.6771\n",
      "Epoch 45/50\n",
      "96/96 [==============================] - 0s 60us/step - loss: 5.8526 - acc: 0.6354\n",
      "Epoch 46/50\n",
      "96/96 [==============================] - 0s 73us/step - loss: 5.1865 - acc: 0.6771\n",
      "Epoch 47/50\n",
      "96/96 [==============================] - 0s 70us/step - loss: 5.5205 - acc: 0.6562\n",
      "Epoch 48/50\n",
      "96/96 [==============================] - 0s 72us/step - loss: 5.8471 - acc: 0.6354\n",
      "Epoch 49/50\n",
      "96/96 [==============================] - 0s 59us/step - loss: 5.0223 - acc: 0.6875\n",
      "Epoch 50/50\n",
      "96/96 [==============================] - 0s 74us/step - loss: 4.5167 - acc: 0.7188\n"
     ]
    },
    {
     "data": {
      "text/plain": [
       "<keras.callbacks.History at 0x1a46b4c160>"
      ]
     },
     "execution_count": 19,
     "metadata": {},
     "output_type": "execute_result"
    }
   ],
   "source": [
    "model.fit(x_train, y_train,\n",
    "          epochs=50,\n",
    "          batch_size=128)"
   ]
  },
  {
   "cell_type": "code",
   "execution_count": 20,
   "metadata": {},
   "outputs": [],
   "source": [
    "model.save('DepressionAnalysisModel - OpenSmileData2.h5')"
   ]
  },
  {
   "cell_type": "code",
   "execution_count": 23,
   "metadata": {},
   "outputs": [],
   "source": [
    "# model.summary()"
   ]
  },
  {
   "cell_type": "code",
   "execution_count": null,
   "metadata": {},
   "outputs": [],
   "source": []
  },
  {
   "cell_type": "code",
   "execution_count": null,
   "metadata": {},
   "outputs": [],
   "source": []
  },
  {
   "cell_type": "code",
   "execution_count": null,
   "metadata": {},
   "outputs": [],
   "source": []
  }
 ],
 "metadata": {
  "kernelspec": {
   "display_name": "Python [conda env:tensorflow_p36]",
   "language": "python",
   "name": "conda-env-tensorflow_p36-py"
  },
  "language_info": {
   "codemirror_mode": {
    "name": "ipython",
    "version": 3
   },
   "file_extension": ".py",
   "mimetype": "text/x-python",
   "name": "python",
   "nbconvert_exporter": "python",
   "pygments_lexer": "ipython3",
   "version": "3.6.5"
  }
 },
 "nbformat": 4,
 "nbformat_minor": 2
}
