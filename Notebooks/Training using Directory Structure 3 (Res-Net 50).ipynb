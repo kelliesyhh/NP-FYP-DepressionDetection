{
 "cells": [
  {
   "cell_type": "code",
   "execution_count": 1,
   "metadata": {},
   "outputs": [],
   "source": [
    "import os\n",
    "import numpy as np\n",
    "import pandas as pd\n",
    "import csv\n",
    "import matplotlib.pyplot as plt\n",
    "import matplotlib.pylab as plb\n",
    "# import cv2\n",
    "import pandas as pd"
   ]
  },
  {
   "cell_type": "code",
   "execution_count": 43,
   "metadata": {},
   "outputs": [
    {
     "name": "stderr",
     "output_type": "stream",
     "text": [
      "/home/ec2-user/anaconda3/envs/tensorflow_p36/lib/python3.6/site-packages/keras_applications/resnet50.py:265: UserWarning: The output shape of `ResNet50(include_top=False)` has been changed since Keras 2.2.0.\n",
      "  warnings.warn('The output shape of `ResNet50(include_top=False)` '\n"
     ]
    }
   ],
   "source": [
    "import keras\n",
    "import numpy as np\n",
    "from keras.applications import resnet50\n",
    "#Load the ResNet50 model\n",
    "# resnet_model = resnet50.ResNet50(weights='imagenet')\n",
    "# resnet_model = resnet50.ResNet50(weights='None')\n",
    "resnet_model = resnet50.ResNet50(weights= None, include_top=False, input_shape=(101,1000,3))"
   ]
  },
  {
   "cell_type": "code",
   "execution_count": 4,
   "metadata": {},
   "outputs": [],
   "source": [
    "from keras.preprocessing.image import load_img\n",
    "from keras.preprocessing.image import img_to_array\n",
    "from keras.applications.imagenet_utils import decode_predictions\n",
    "import matplotlib.pyplot as plt\n",
    "import numpy as np\n",
    "%matplotlib inline"
   ]
  },
  {
   "cell_type": "code",
   "execution_count": 33,
   "metadata": {},
   "outputs": [
    {
     "name": "stdout",
     "output_type": "stream",
     "text": [
      "/home/ec2-user/workspace/Aaron-Workspace/FilteredImages2/train/415_AUDIO_Participant/415_AUDIO_Participant(0-80000).png\n"
     ]
    }
   ],
   "source": [
    "filename = 'images/cat.jpg'\n",
    "# load an image in PIL format\n",
    "# original_image = load_img(filename, target_size=(224, 224))\n",
    "FstImgDir = os.path.join(trainDir, os.listdir(trainDir)[0])\n",
    "singleImg = os.path.join(FstImgDir, os.listdir(FstImgDir)[0])\n",
    "print(singleImg)\n",
    "training_image = load_img(singleImg, target_size=(224,224)) \n",
    "# training_image = load_img(singleImg, target_size=(100,1000)) # IMAGE DIMENSIONS NOT RECOGNISED"
   ]
  },
  {
   "cell_type": "code",
   "execution_count": 34,
   "metadata": {},
   "outputs": [],
   "source": [
    "# convert the PIL image (width, height) to a NumPy array (height, width, channel)\n",
    "numpy_image = img_to_array(training_image)\n",
    "# print(numpy_image)\n",
    "input_image = np.expand_dims(numpy_image, axis=0)"
   ]
  },
  {
   "cell_type": "code",
   "execution_count": 35,
   "metadata": {},
   "outputs": [
    {
     "name": "stdout",
     "output_type": "stream",
     "text": [
      "PIL image size =  (1000, 100)\n",
      "NumPy image size =  (100, 1000, 3)\n",
      "Input image size =  (1, 100, 1000, 3)\n"
     ]
    },
    {
     "data": {
      "text/plain": [
       "<matplotlib.image.AxesImage at 0x7f4708a1ff28>"
      ]
     },
     "execution_count": 35,
     "metadata": {},
     "output_type": "execute_result"
    },
    {
     "data": {
      "image/png": "[encoded data removed]",
      "text/plain": [
       "<Figure size 432x288 with 1 Axes>"
      ]
     },
     "metadata": {},
     "output_type": "display_data"
    }
   ],
   "source": [
    "print('PIL image size = ', training_image.size)\n",
    "print('NumPy image size = ', numpy_image.shape)\n",
    "print('Input image size = ', input_image.shape)\n",
    "plt.imshow(np.uint8(input_image[0]))"
   ]
  },
  {
   "cell_type": "code",
   "execution_count": 36,
   "metadata": {},
   "outputs": [],
   "source": [
    "processed_image_resnet50 = resnet50.preprocess_input(input_image.copy())"
   ]
  },
  {
   "cell_type": "code",
   "execution_count": 37,
   "metadata": {},
   "outputs": [
    {
     "ename": "ValueError",
     "evalue": "Error when checking input: expected input_1 to have shape (224, 224, 3) but got array with shape (100, 1000, 3)",
     "output_type": "error",
     "traceback": [
      "\u001b[0;31m---------------------------------------------------------------------------\u001b[0m",
      "\u001b[0;31mValueError\u001b[0m                                Traceback (most recent call last)",
      "\u001b[0;32m<ipython-input-37-dfe965929d45>\u001b[0m in \u001b[0;36m<module>\u001b[0;34m()\u001b[0m\n\u001b[0;32m----> 1\u001b[0;31m \u001b[0mpredictions_resnet50\u001b[0m \u001b[0;34m=\u001b[0m \u001b[0mresnet_model\u001b[0m\u001b[0;34m.\u001b[0m\u001b[0mpredict\u001b[0m\u001b[0;34m(\u001b[0m\u001b[0mprocessed_image_resnet50\u001b[0m\u001b[0;34m)\u001b[0m\u001b[0;34m\u001b[0m\u001b[0m\n\u001b[0m\u001b[1;32m      2\u001b[0m \u001b[0mlabel_resnet50\u001b[0m \u001b[0;34m=\u001b[0m \u001b[0mdecode_predictions\u001b[0m\u001b[0;34m(\u001b[0m\u001b[0mpredictions_resnet50\u001b[0m\u001b[0;34m)\u001b[0m\u001b[0;34m\u001b[0m\u001b[0m\n\u001b[1;32m      3\u001b[0m \u001b[0mprint\u001b[0m \u001b[0;34m(\u001b[0m\u001b[0;34m'label_resnet50 = '\u001b[0m\u001b[0;34m,\u001b[0m \u001b[0mlabel_resnet50\u001b[0m\u001b[0;34m)\u001b[0m\u001b[0;34m\u001b[0m\u001b[0m\n",
      "\u001b[0;32m~/anaconda3/envs/tensorflow_p36/lib/python3.6/site-packages/keras/engine/training.py\u001b[0m in \u001b[0;36mpredict\u001b[0;34m(self, x, batch_size, verbose, steps)\u001b[0m\n\u001b[1;32m   1147\u001b[0m                              'argument.')\n\u001b[1;32m   1148\u001b[0m         \u001b[0;31m# Validate user data.\u001b[0m\u001b[0;34m\u001b[0m\u001b[0;34m\u001b[0m\u001b[0m\n\u001b[0;32m-> 1149\u001b[0;31m         \u001b[0mx\u001b[0m\u001b[0;34m,\u001b[0m \u001b[0m_\u001b[0m\u001b[0;34m,\u001b[0m \u001b[0m_\u001b[0m \u001b[0;34m=\u001b[0m \u001b[0mself\u001b[0m\u001b[0;34m.\u001b[0m\u001b[0m_standardize_user_data\u001b[0m\u001b[0;34m(\u001b[0m\u001b[0mx\u001b[0m\u001b[0;34m)\u001b[0m\u001b[0;34m\u001b[0m\u001b[0m\n\u001b[0m\u001b[1;32m   1150\u001b[0m         \u001b[0;32mif\u001b[0m \u001b[0mself\u001b[0m\u001b[0;34m.\u001b[0m\u001b[0mstateful\u001b[0m\u001b[0;34m:\u001b[0m\u001b[0;34m\u001b[0m\u001b[0m\n\u001b[1;32m   1151\u001b[0m             \u001b[0;32mif\u001b[0m \u001b[0mx\u001b[0m\u001b[0;34m[\u001b[0m\u001b[0;36m0\u001b[0m\u001b[0;34m]\u001b[0m\u001b[0;34m.\u001b[0m\u001b[0mshape\u001b[0m\u001b[0;34m[\u001b[0m\u001b[0;36m0\u001b[0m\u001b[0;34m]\u001b[0m \u001b[0;34m>\u001b[0m \u001b[0mbatch_size\u001b[0m \u001b[0;32mand\u001b[0m \u001b[0mx\u001b[0m\u001b[0;34m[\u001b[0m\u001b[0;36m0\u001b[0m\u001b[0;34m]\u001b[0m\u001b[0;34m.\u001b[0m\u001b[0mshape\u001b[0m\u001b[0;34m[\u001b[0m\u001b[0;36m0\u001b[0m\u001b[0;34m]\u001b[0m \u001b[0;34m%\u001b[0m \u001b[0mbatch_size\u001b[0m \u001b[0;34m!=\u001b[0m \u001b[0;36m0\u001b[0m\u001b[0;34m:\u001b[0m\u001b[0;34m\u001b[0m\u001b[0m\n",
      "\u001b[0;32m~/anaconda3/envs/tensorflow_p36/lib/python3.6/site-packages/keras/engine/training.py\u001b[0m in \u001b[0;36m_standardize_user_data\u001b[0;34m(self, x, y, sample_weight, class_weight, check_array_lengths, batch_size)\u001b[0m\n\u001b[1;32m    749\u001b[0m             \u001b[0mfeed_input_shapes\u001b[0m\u001b[0;34m,\u001b[0m\u001b[0;34m\u001b[0m\u001b[0m\n\u001b[1;32m    750\u001b[0m             \u001b[0mcheck_batch_axis\u001b[0m\u001b[0;34m=\u001b[0m\u001b[0;32mFalse\u001b[0m\u001b[0;34m,\u001b[0m  \u001b[0;31m# Don't enforce the batch size.\u001b[0m\u001b[0;34m\u001b[0m\u001b[0m\n\u001b[0;32m--> 751\u001b[0;31m             exception_prefix='input')\n\u001b[0m\u001b[1;32m    752\u001b[0m \u001b[0;34m\u001b[0m\u001b[0m\n\u001b[1;32m    753\u001b[0m         \u001b[0;32mif\u001b[0m \u001b[0my\u001b[0m \u001b[0;32mis\u001b[0m \u001b[0;32mnot\u001b[0m \u001b[0;32mNone\u001b[0m\u001b[0;34m:\u001b[0m\u001b[0;34m\u001b[0m\u001b[0m\n",
      "\u001b[0;32m~/anaconda3/envs/tensorflow_p36/lib/python3.6/site-packages/keras/engine/training_utils.py\u001b[0m in \u001b[0;36mstandardize_input_data\u001b[0;34m(data, names, shapes, check_batch_axis, exception_prefix)\u001b[0m\n\u001b[1;32m    136\u001b[0m                             \u001b[0;34m': expected '\u001b[0m \u001b[0;34m+\u001b[0m \u001b[0mnames\u001b[0m\u001b[0;34m[\u001b[0m\u001b[0mi\u001b[0m\u001b[0;34m]\u001b[0m \u001b[0;34m+\u001b[0m \u001b[0;34m' to have shape '\u001b[0m \u001b[0;34m+\u001b[0m\u001b[0;34m\u001b[0m\u001b[0m\n\u001b[1;32m    137\u001b[0m                             \u001b[0mstr\u001b[0m\u001b[0;34m(\u001b[0m\u001b[0mshape\u001b[0m\u001b[0;34m)\u001b[0m \u001b[0;34m+\u001b[0m \u001b[0;34m' but got array with shape '\u001b[0m \u001b[0;34m+\u001b[0m\u001b[0;34m\u001b[0m\u001b[0m\n\u001b[0;32m--> 138\u001b[0;31m                             str(data_shape))\n\u001b[0m\u001b[1;32m    139\u001b[0m     \u001b[0;32mreturn\u001b[0m \u001b[0mdata\u001b[0m\u001b[0;34m\u001b[0m\u001b[0m\n\u001b[1;32m    140\u001b[0m \u001b[0;34m\u001b[0m\u001b[0m\n",
      "\u001b[0;31mValueError\u001b[0m: Error when checking input: expected input_1 to have shape (224, 224, 3) but got array with shape (100, 1000, 3)"
     ]
    }
   ],
   "source": [
    "predictions_resnet50 = resnet_model.predict(processed_image_resnet50)\n",
    "label_resnet50 = decode_predictions(predictions_resnet50)\n",
    "print ('label_resnet50 = ', label_resnet50)"
   ]
  },
  {
   "cell_type": "code",
   "execution_count": null,
   "metadata": {},
   "outputs": [],
   "source": []
  },
  {
   "cell_type": "code",
   "execution_count": 2,
   "metadata": {},
   "outputs": [],
   "source": [
    "# os.environ[\"KERAS_BACKEND\"] = \"plaidml.keras.backend\" #for GPU Support on MacBook"
   ]
  },
  {
   "cell_type": "code",
   "execution_count": 32,
   "metadata": {},
   "outputs": [],
   "source": [
    "import sklearn\n",
    "import pandas as pd\n",
    "from sklearn.model_selection import train_test_split\n",
    "# X_train, X_test, y_train, y_test = train_test_split(X, y, test_size = 0.2, random_state = 0)"
   ]
  },
  {
   "cell_type": "code",
   "execution_count": 6,
   "metadata": {},
   "outputs": [],
   "source": [
    "currentDir = os.getcwd()\n",
    "datasetDir = currentDir + \"/FilteredImages/\"\n",
    "datasetDir = currentDir + \"/FilteredImages2/\" # NEW SINGLE IMAGES DIRECTORY\n",
    "trainDir = os.path.join(datasetDir, \"train\")\n",
    "testDir = os.path.join(datasetDir, \"test\")\n",
    "validDir = os.path.join(datasetDir, \"valid\")\n",
    "y_dataDir = os.path.join(datasetDir, \"y_data\")"
   ]
  },
  {
   "cell_type": "code",
   "execution_count": 7,
   "metadata": {},
   "outputs": [],
   "source": [
    "def sortFirst(val):\n",
    "    return val[0]\n",
    "\n",
    "def getBinary(dataFile):\n",
    "    listOfTraining = []\n",
    "    trainingHeader = []\n",
    "    with open(dataFile) as csvfile:\n",
    "#     reader = csv.DictReader(csvfile)\n",
    "        reader2 = csv.reader(csvfile)\n",
    "        listOfTraining = list(reader2)\n",
    "        trainingHeader = listOfTraining[0]\n",
    "        listOfTraining.pop(0)\n",
    "#         listOfTraining = listOfTraining.sort(key = sortFirst, reverse = False)\n",
    "#         np.asarray(listofTraining, dtype=np.int32)\n",
    "#         return np.asarray(listofTraining, dtype=np.int32)\n",
    "    listOfTrainingBinary = []\n",
    "    for item in listOfTraining:\n",
    "        listOfTrainingBinary.append(item[1])\n",
    "    return np.asarray(listOfTrainingBinary, dtype=np.int32)"
   ]
  },
  {
   "cell_type": "code",
   "execution_count": 8,
   "metadata": {},
   "outputs": [
    {
     "name": "stdout",
     "output_type": "stream",
     "text": [
      "[0 0 0 0 0 0 0 0 0 0 1 1 1 0 0 1 0 0 0 1 0 0 1 1 0 0 0 1 1 1 1 1 1 1 1 1 1\n",
      " 0 0 0 1 0 0 0 0 0 0 0 1 0 0 1 0 1 0 0 1 0 0 0 0 0 0 1 0 1 1 0 0 0 0 0 1 0\n",
      " 0 0 0 1 0 0 1 0 0 0 0 0 1 0 0 0 0 0 1 0 0 0 0 0 0 0 0 0 0 0 0 0 0]\n",
      "[0 0 0 1 1 1 1 1 0 1 1 0 0 0 0 0 1 0 1 0 1 0 0 1 0 0 0 0 0 0 1 0 0 0 0]\n"
     ]
    }
   ],
   "source": [
    "y_train = []\n",
    "y_trainDir = os.path.join(y_dataDir, 'train_split_Depression_AVEC2017-edited.csv')\n",
    "# print(y_trainDir)\n",
    "y_train = getBinary(y_trainDir)\n",
    "y_testDir = os.path.join(y_dataDir, 'dev_split_Depression_AVEC2017.csv')\n",
    "# print(y_testDir)\n",
    "y_test = getBinary(y_testDir)\n",
    "print(y_train)\n",
    "print(y_test)\n",
    "\n",
    "# Y_train = np.asarray(y_train, dtype=np.int32)"
   ]
  },
  {
   "cell_type": "code",
   "execution_count": 9,
   "metadata": {},
   "outputs": [],
   "source": [
    "x_trainDir = trainDir\n",
    "x_testDir = testDir"
   ]
  },
  {
   "cell_type": "code",
   "execution_count": 10,
   "metadata": {},
   "outputs": [
    {
     "data": {
      "text/plain": [
       "'/home/ec2-user/workspace/Aaron-Workspace/FilteredImages2/train'"
      ]
     },
     "execution_count": 10,
     "metadata": {},
     "output_type": "execute_result"
    }
   ],
   "source": [
    "x_trainDir"
   ]
  },
  {
   "cell_type": "code",
   "execution_count": 11,
   "metadata": {},
   "outputs": [],
   "source": [
    "import keras\n",
    "from keras.datasets import mnist\n",
    "from keras.models import Sequential\n",
    "from keras.layers import Dense, Dropout, Flatten, Activation\n",
    "\n",
    "from keras.layers import Conv2D, MaxPooling2D, GlobalAveragePooling2D\n",
    "from keras import backend as K\n",
    "from keras.callbacks import TensorBoard\n",
    "\n",
    "import tensorflow as tf"
   ]
  },
  {
   "cell_type": "code",
   "execution_count": 9,
   "metadata": {},
   "outputs": [
    {
     "name": "stdout",
     "output_type": "stream",
     "text": [
      "_________________________________________________________________\n",
      "Layer (type)                 Output Shape              Param #   \n",
      "=================================================================\n",
      "conv2d_1 (Conv2D)            (None, 99, 998, 32)       896       \n",
      "_________________________________________________________________\n",
      "conv2d_2 (Conv2D)            (None, 99, 996, 32)       3104      \n",
      "_________________________________________________________________\n",
      "global_average_pooling2d_1 ( (None, 32)                0         \n",
      "_________________________________________________________________\n",
      "dense_1 (Dense)              (None, 512)               16896     \n",
      "_________________________________________________________________\n",
      "dropout_1 (Dropout)          (None, 512)               0         \n",
      "_________________________________________________________________\n",
      "dense_2 (Dense)              (None, 1)                 513       \n",
      "_________________________________________________________________\n",
      "activation_1 (Activation)    (None, 1)                 0         \n",
      "=================================================================\n",
      "Total params: 21,409\n",
      "Trainable params: 21,409\n",
      "Non-trainable params: 0\n",
      "_________________________________________________________________\n"
     ]
    }
   ],
   "source": [
    "input_shape = (101, 1000, 3)\n",
    "\n",
    "# model = Sequential()\n",
    "# model.add(Conv2D(32, (3, 3), input_shape=input_shape))\n",
    "# model.add(Activation('relu'))\n",
    "# model.add(MaxPooling2D(pool_size=(2, 2)))\n",
    "\n",
    "# model.add(Conv2D(32, (3, 3)))\n",
    "# model.add(Activation('relu'))\n",
    "# model.add(MaxPooling2D(pool_size=(2, 2)))\n",
    "\n",
    "# model.add(Conv2D(64, (3, 3)))\n",
    "# model.add(Activation('relu'))\n",
    "# model.add(MaxPooling2D(pool_size=(2, 2)))\n",
    "\n",
    "# model.add(Flatten())\n",
    "# model.add(Dense(64))\n",
    "# model.add(Activation('relu'))\n",
    "# # model.add(Dropout(0.5))\n",
    "# model.add(Dense(1))\n",
    "# model.add(Activation('sigmoid'))\n",
    "\n",
    "# model.compile(loss='binary_crossentropy',\n",
    "#               optimizer='rmsprop',\n",
    "#               metrics=['accuracy'])\n",
    "\n",
    "# model.summary()\n",
    "\n",
    "\n",
    "# TAKEN FROM DEPRESSION DETECT\n",
    "model = Sequential()\n",
    "model.add(Conv2D(32, (3, 3), padding='valid', strides=1,\n",
    "                 input_shape=input_shape, activation='relu'))\n",
    "\n",
    "# model.add(GlobalAveragePooling2D(data_format='channels_last'))\n",
    "\n",
    "# model.add(MaxPooling2D(pool_size=(4, 3), strides=(1, 3)))\n",
    "#model.add(MaxPooling2D(pool_size=(2, 2), strides=(1, 3)))\n",
    "model.add(Conv2D(32, (1, 3), padding='valid', strides=1,\n",
    "          input_shape=input_shape, activation='relu'))\n",
    "\n",
    "#model.add(GlobalAveragePooling2D(data_format=(32, (101, 1000, 3))\n",
    "model.add(GlobalAveragePooling2D(data_format='channels_last'))\n",
    "#model.add(MaxPooling2D(pool_size=(1, 3), strides=(1, 3)))\n",
    "\n",
    "#model.add(Flatten())\n",
    "# model.add(Dense(512, activation='relu'))\n",
    "model.add(Dense(512, activation='relu'))\n",
    "model.add(Dropout(0.5))\n",
    "\n",
    "model.add(Dense(1))\n",
    "model.add(Activation('softmax'))\n",
    "# model.add(Activation(tf.nn.softmax)) #fixes axis error for softmax\n",
    "\n",
    "# model.compile(loss='sparse_categorical_crossentropy',\n",
    "#              optimizer='adadelta',\n",
    "#              metrics=['accuracy'])\n",
    "\n",
    "# model.compile(loss='categorical_crossentropy',\n",
    "#               optimizer='adadelta',\n",
    "#               metrics=['accuracy'])\n",
    "\n",
    "# model.compile(loss='binary_crossentropy',\n",
    "#               optimizer='rmsprop', #DO NOT USE RSMPROP VERY BAD OPTIMISATION\n",
    "#               metrics=['accuracy'])\n",
    "\n",
    "model.compile(loss='mean_squared_error',\n",
    "              optimizer='adadelta', #adam\n",
    "              metrics=['accuracy']) \n",
    "\n",
    "model.summary()"
   ]
  },
  {
   "cell_type": "code",
   "execution_count": 10,
   "metadata": {},
   "outputs": [],
   "source": [
    "from keras.preprocessing.image import ImageDataGenerator"
   ]
  },
  {
   "cell_type": "code",
   "execution_count": 11,
   "metadata": {},
   "outputs": [
    {
     "name": "stdout",
     "output_type": "stream",
     "text": [
      "Found 103 images belonging to 103 classes.\n",
      "Found 35 images belonging to 35 classes.\n"
     ]
    }
   ],
   "source": [
    "train_datagen = ImageDataGenerator()\n",
    "\n",
    "# train_datagen = keras.utils.Sequence()\n",
    "\n",
    "train_generator = train_datagen.flow_from_directory(\n",
    "        x_trainDir,\n",
    "        target_size=(101, 1000),\n",
    "        batch_size=32,\n",
    "        class_mode='binary')\n",
    "\n",
    "validation_generator = train_datagen.flow_from_directory(\n",
    "        x_testDir,\n",
    "        target_size=(101, 1000),\n",
    "        batch_size=32,\n",
    "        class_mode='binary')"
   ]
  },
  {
   "cell_type": "code",
   "execution_count": 12,
   "metadata": {},
   "outputs": [],
   "source": [
    "#Changes the class values generated from the generator\n",
    "def updateBinary(generator, y_binary):\n",
    "    counter = 0\n",
    "    for k,v in generator.class_indices.items():\n",
    "        generator.class_indices[k] = y_binary[counter]\n",
    "        counter += 1\n",
    "\n",
    "# counter = 0\n",
    "# for k,v in train_generator.class_indices.items():\n",
    "#     train_generator.class_indices[k] = y_train[counter]\n",
    "#     counter += 1        "
   ]
  },
  {
   "cell_type": "code",
   "execution_count": 14,
   "metadata": {},
   "outputs": [],
   "source": [
    "# for k,v in train_generator.class_indices.items():\n",
    "#     print(k,v)"
   ]
  },
  {
   "cell_type": "code",
   "execution_count": 15,
   "metadata": {},
   "outputs": [
    {
     "name": "stdout",
     "output_type": "stream",
     "text": [
      "('302_AUDIO_Participant', 0)\n",
      "('307_AUDIO_Participant', 0)\n",
      "('331_AUDIO_Participant', 0)\n",
      "('335_AUDIO_Participant', 1)\n",
      "('346_AUDIO_Participant', 1)\n",
      "('367_AUDIO_Participant', 1)\n",
      "('377_AUDIO_Participant', 1)\n",
      "('381_AUDIO_Participant', 1)\n",
      "('382_AUDIO_Participant', 0)\n",
      "('388_AUDIO_Participant', 1)\n",
      "('389_AUDIO_Participant', 1)\n",
      "('390_AUDIO_Participant', 0)\n",
      "('395_AUDIO_Participant', 0)\n",
      "('403_AUDIO_Participant', 0)\n",
      "('404_AUDIO_Participant', 0)\n",
      "('406_AUDIO_Participant', 0)\n",
      "('413_AUDIO_Participant', 1)\n",
      "('417_AUDIO_Participant', 0)\n",
      "('418_AUDIO_Participant', 1)\n",
      "('420_AUDIO_Participant', 0)\n",
      "('422_AUDIO_Participant', 1)\n",
      "('436_AUDIO_Participant', 0)\n",
      "('439_AUDIO_Participant', 0)\n",
      "('440_AUDIO_Participant', 1)\n",
      "('451_AUDIO_Participant', 0)\n",
      "('458_AUDIO_Participant', 0)\n",
      "('472_AUDIO_Participant', 0)\n",
      "('476_AUDIO_Participant', 0)\n",
      "('477_AUDIO_Participant', 0)\n",
      "('482_AUDIO_Participant', 0)\n",
      "('483_AUDIO_Participant', 1)\n",
      "('484_AUDIO_Participant', 0)\n",
      "('489_AUDIO_Participant', 0)\n",
      "('490_AUDIO_Participant', 0)\n",
      "('492_AUDIO_Participant', 0)\n"
     ]
    }
   ],
   "source": [
    "for item in validation_generator.class_indices.items():\n",
    "    print(item)"
   ]
  },
  {
   "cell_type": "code",
   "execution_count": null,
   "metadata": {},
   "outputs": [],
   "source": []
  },
  {
   "cell_type": "code",
   "execution_count": null,
   "metadata": {},
   "outputs": [],
   "source": []
  },
  {
   "cell_type": "code",
   "execution_count": 14,
   "metadata": {},
   "outputs": [],
   "source": [
    "#updates each folder with the corresponding binary for depression/non-depression cases\n",
    "updateBinary(train_generator, y_train)\n",
    "updateBinary(validation_generator, y_test)"
   ]
  },
  {
   "cell_type": "code",
   "execution_count": 17,
   "metadata": {},
   "outputs": [],
   "source": [
    "# for k,v in train_generator.class_indices.items():\n",
    "#     print(k,v)"
   ]
  },
  {
   "cell_type": "code",
   "execution_count": null,
   "metadata": {},
   "outputs": [],
   "source": []
  },
  {
   "cell_type": "code",
   "execution_count": 17,
   "metadata": {},
   "outputs": [],
   "source": [
    "#Saving Model\n",
    "from keras.callbacks import ModelCheckpoint\n",
    "\n",
    "model_path = os.path.join(currentDir,'DepressionAnalysisModel5 (NEW SINGLE IMG)2.h5')\n",
    "\n",
    "# checkpoint = ModelCheckpoint(model_path, monitor='loss', verbose=1, save_best_only=True, mode='max')\n",
    "\n",
    "# checkpoint = ModelCheckpoint(model_path, monitor='acc', verbose=1, save_best_only=True, mode='max')\n",
    "\n",
    "checkpoint = ModelCheckpoint(model_path, monitor='acc', verbose=1, save_best_only=False, save_weights_only=False, mode='auto')\n",
    "tbCallBack = TensorBoard(log_dir='./Graph', histogram_freq=0, write_graph=True, write_images=True)\n",
    "\n",
    "callbacks_list = [checkpoint, tbCallBack]"
   ]
  },
  {
   "cell_type": "code",
   "execution_count": null,
   "metadata": {},
   "outputs": [],
   "source": []
  },
  {
   "cell_type": "code",
   "execution_count": 19,
   "metadata": {},
   "outputs": [],
   "source": [
    "# input_shape"
   ]
  },
  {
   "cell_type": "code",
   "execution_count": null,
   "metadata": {},
   "outputs": [],
   "source": []
  },
  {
   "cell_type": "code",
   "execution_count": null,
   "metadata": {},
   "outputs": [],
   "source": []
  },
  {
   "cell_type": "code",
   "execution_count": null,
   "metadata": {},
   "outputs": [],
   "source": []
  },
  {
   "cell_type": "code",
   "execution_count": 18,
   "metadata": {},
   "outputs": [
    {
     "name": "stdout",
     "output_type": "stream",
     "text": [
      "Epoch 1/50\n",
      "500/500 [==============================] - 73s 146ms/step - loss: 3381.5972 - acc: 0.0100 - val_loss: 358.0000 - val_acc: 0.0286\n",
      "\n",
      "Epoch 00002: saving model to /home/ec2-user/workspace/Aaron-Workspace/DepressionAnalysisModel5 (NEW SINGLE IMG)2.h5\n",
      "Epoch 3/50\n",
      "500/500 [==============================] - 73s 146ms/step - loss: 3375.3307 - acc: 0.0092 - val_loss: 358.0000 - val_acc: 0.0286\n",
      "\n",
      "Epoch 00003: saving model to /home/ec2-user/workspace/Aaron-Workspace/DepressionAnalysisModel5 (NEW SINGLE IMG)2.h5\n",
      "Epoch 4/50\n",
      "500/500 [==============================] - 73s 146ms/step - loss: 3370.7836 - acc: 0.0094 - val_loss: 358.0000 - val_acc: 0.0286\n",
      "\n",
      "Epoch 00004: saving model to /home/ec2-user/workspace/Aaron-Workspace/DepressionAnalysisModel5 (NEW SINGLE IMG)2.h5\n",
      "Epoch 5/50\n",
      "500/500 [==============================] - 73s 146ms/step - loss: 3359.8405 - acc: 0.0096 - val_loss: 358.0000 - val_acc: 0.0286\n",
      "\n",
      "Epoch 00005: saving model to /home/ec2-user/workspace/Aaron-Workspace/DepressionAnalysisModel5 (NEW SINGLE IMG)2.h5\n",
      "Epoch 6/50\n",
      "500/500 [==============================] - 73s 146ms/step - loss: 3359.7106 - acc: 0.0100 - val_loss: 358.0000 - val_acc: 0.0286\n",
      "\n",
      "Epoch 00006: saving model to /home/ec2-user/workspace/Aaron-Workspace/DepressionAnalysisModel5 (NEW SINGLE IMG)2.h5\n",
      "Epoch 7/50\n",
      "500/500 [==============================] - 73s 146ms/step - loss: 3427.1320 - acc: 0.0096 - val_loss: 358.0000 - val_acc: 0.0286\n",
      "\n",
      "Epoch 00007: saving model to /home/ec2-user/workspace/Aaron-Workspace/DepressionAnalysisModel5 (NEW SINGLE IMG)2.h5\n",
      "Epoch 8/50\n",
      "500/500 [==============================] - 73s 146ms/step - loss: 3395.4882 - acc: 0.0098 - val_loss: 358.0000 - val_acc: 0.0286\n",
      "\n",
      "Epoch 00008: saving model to /home/ec2-user/workspace/Aaron-Workspace/DepressionAnalysisModel5 (NEW SINGLE IMG)2.h5\n",
      "Epoch 9/50\n",
      "500/500 [==============================] - 73s 146ms/step - loss: 3399.9026 - acc: 0.0109 - val_loss: 358.0000 - val_acc: 0.0286\n",
      "\n",
      "Epoch 00009: saving model to /home/ec2-user/workspace/Aaron-Workspace/DepressionAnalysisModel5 (NEW SINGLE IMG)2.h5\n",
      "Epoch 10/50\n",
      "500/500 [==============================] - 73s 146ms/step - loss: 3378.7262 - acc: 0.0092 - val_loss: 358.0000 - val_acc: 0.0286\n",
      "\n",
      "Epoch 00010: saving model to /home/ec2-user/workspace/Aaron-Workspace/DepressionAnalysisModel5 (NEW SINGLE IMG)2.h5\n",
      "Epoch 11/50\n",
      "500/500 [==============================] - 73s 146ms/step - loss: 3370.3668 - acc: 0.0103 - val_loss: 358.0000 - val_acc: 0.0286\n",
      "\n",
      "Epoch 00011: saving model to /home/ec2-user/workspace/Aaron-Workspace/DepressionAnalysisModel5 (NEW SINGLE IMG)2.h5\n",
      "Epoch 12/50\n",
      "500/500 [==============================] - 73s 146ms/step - loss: 3374.0883 - acc: 0.0100 - val_loss: 358.0000 - val_acc: 0.0286\n",
      "\n",
      "Epoch 00012: saving model to /home/ec2-user/workspace/Aaron-Workspace/DepressionAnalysisModel5 (NEW SINGLE IMG)2.h5\n",
      "Epoch 13/50\n",
      "500/500 [==============================] - 73s 146ms/step - loss: 3391.4320 - acc: 0.0092 - val_loss: 358.0000 - val_acc: 0.0286\n",
      "\n",
      "Epoch 00013: saving model to /home/ec2-user/workspace/Aaron-Workspace/DepressionAnalysisModel5 (NEW SINGLE IMG)2.h5\n",
      "Epoch 14/50\n",
      "500/500 [==============================] - 73s 146ms/step - loss: 3360.3255 - acc: 0.0094 - val_loss: 358.0000 - val_acc: 0.0286\n",
      "\n",
      "Epoch 00014: saving model to /home/ec2-user/workspace/Aaron-Workspace/DepressionAnalysisModel5 (NEW SINGLE IMG)2.h5\n",
      "Epoch 15/50\n",
      "500/500 [==============================] - 73s 146ms/step - loss: 3376.7500 - acc: 0.0107 - val_loss: 358.0000 - val_acc: 0.0286\n",
      "\n",
      "Epoch 00015: saving model to /home/ec2-user/workspace/Aaron-Workspace/DepressionAnalysisModel5 (NEW SINGLE IMG)2.h5\n",
      "Epoch 16/50\n",
      "500/500 [==============================] - 73s 146ms/step - loss: 3373.3080 - acc: 0.0087 - val_loss: 358.0000 - val_acc: 0.0286\n",
      "\n",
      "Epoch 00016: saving model to /home/ec2-user/workspace/Aaron-Workspace/DepressionAnalysisModel5 (NEW SINGLE IMG)2.h5\n",
      "Epoch 17/50\n",
      "500/500 [==============================] - 73s 146ms/step - loss: 3372.4866 - acc: 0.0103 - val_loss: 358.0000 - val_acc: 0.0286\n",
      "\n",
      "Epoch 00017: saving model to /home/ec2-user/workspace/Aaron-Workspace/DepressionAnalysisModel5 (NEW SINGLE IMG)2.h5\n",
      "Epoch 18/50\n",
      "500/500 [==============================] - 73s 146ms/step - loss: 3366.5708 - acc: 0.0089 - val_loss: 358.0000 - val_acc: 0.0286\n",
      "\n",
      "Epoch 00018: saving model to /home/ec2-user/workspace/Aaron-Workspace/DepressionAnalysisModel5 (NEW SINGLE IMG)2.h5\n",
      "Epoch 19/50\n",
      "500/500 [==============================] - 73s 146ms/step - loss: 3382.4313 - acc: 0.0094 - val_loss: 358.0000 - val_acc: 0.0286\n",
      "\n",
      "Epoch 00019: saving model to /home/ec2-user/workspace/Aaron-Workspace/DepressionAnalysisModel5 (NEW SINGLE IMG)2.h5\n",
      "Epoch 20/50\n",
      "500/500 [==============================] - 73s 146ms/step - loss: 3369.6508 - acc: 0.0094 - val_loss: 358.0000 - val_acc: 0.0286\n",
      "\n",
      "Epoch 00020: saving model to /home/ec2-user/workspace/Aaron-Workspace/DepressionAnalysisModel5 (NEW SINGLE IMG)2.h5\n",
      "Epoch 21/50\n",
      "500/500 [==============================] - 73s 146ms/step - loss: 3376.0189 - acc: 0.0098 - val_loss: 358.0000 - val_acc: 0.0286\n",
      "\n",
      "Epoch 00021: saving model to /home/ec2-user/workspace/Aaron-Workspace/DepressionAnalysisModel5 (NEW SINGLE IMG)2.h5\n",
      "Epoch 22/50\n",
      "500/500 [==============================] - 73s 146ms/step - loss: 3381.4778 - acc: 0.0098 - val_loss: 358.0000 - val_acc: 0.0286\n",
      "\n",
      "Epoch 00022: saving model to /home/ec2-user/workspace/Aaron-Workspace/DepressionAnalysisModel5 (NEW SINGLE IMG)2.h5\n",
      "Epoch 23/50\n",
      "500/500 [==============================] - 73s 146ms/step - loss: 3388.0620 - acc: 0.0092 - val_loss: 358.0000 - val_acc: 0.0286\n",
      "\n",
      "Epoch 00023: saving model to /home/ec2-user/workspace/Aaron-Workspace/DepressionAnalysisModel5 (NEW SINGLE IMG)2.h5\n",
      "Epoch 24/50\n",
      "500/500 [==============================] - 73s 146ms/step - loss: 3378.1537 - acc: 0.0089 - val_loss: 358.0000 - val_acc: 0.0286\n",
      "\n",
      "Epoch 00024: saving model to /home/ec2-user/workspace/Aaron-Workspace/DepressionAnalysisModel5 (NEW SINGLE IMG)2.h5\n",
      "Epoch 25/50\n",
      "500/500 [==============================] - 73s 146ms/step - loss: 3370.4256 - acc: 0.0083 - val_loss: 358.0000 - val_acc: 0.0286\n",
      "\n",
      "Epoch 00025: saving model to /home/ec2-user/workspace/Aaron-Workspace/DepressionAnalysisModel5 (NEW SINGLE IMG)2.h5\n",
      "Epoch 26/50\n",
      "500/500 [==============================] - 73s 146ms/step - loss: 3394.6330 - acc: 0.0105 - val_loss: 358.0000 - val_acc: 0.0286\n",
      "\n",
      "Epoch 00026: saving model to /home/ec2-user/workspace/Aaron-Workspace/DepressionAnalysisModel5 (NEW SINGLE IMG)2.h5\n",
      "Epoch 27/50\n",
      "500/500 [==============================] - 73s 146ms/step - loss: 3385.9200 - acc: 0.0092 - val_loss: 358.0000 - val_acc: 0.0286\n",
      "\n",
      "Epoch 00027: saving model to /home/ec2-user/workspace/Aaron-Workspace/DepressionAnalysisModel5 (NEW SINGLE IMG)2.h5\n",
      "Epoch 28/50\n",
      "500/500 [==============================] - 73s 146ms/step - loss: 3355.6103 - acc: 0.0107 - val_loss: 358.0000 - val_acc: 0.0286\n",
      "\n",
      "Epoch 00028: saving model to /home/ec2-user/workspace/Aaron-Workspace/DepressionAnalysisModel5 (NEW SINGLE IMG)2.h5\n",
      "Epoch 29/50\n",
      "500/500 [==============================] - 73s 146ms/step - loss: 3397.4840 - acc: 0.0112 - val_loss: 358.0000 - val_acc: 0.0286\n",
      "\n",
      "Epoch 00029: saving model to /home/ec2-user/workspace/Aaron-Workspace/DepressionAnalysisModel5 (NEW SINGLE IMG)2.h5\n",
      "Epoch 30/50\n",
      "500/500 [==============================] - 73s 146ms/step - loss: 3405.7883 - acc: 0.0098 - val_loss: 358.0000 - val_acc: 0.0286\n",
      "\n",
      "Epoch 00030: saving model to /home/ec2-user/workspace/Aaron-Workspace/DepressionAnalysisModel5 (NEW SINGLE IMG)2.h5\n",
      "Epoch 31/50\n",
      "500/500 [==============================] - 73s 146ms/step - loss: 3373.2151 - acc: 0.0107 - val_loss: 358.0000 - val_acc: 0.0286\n",
      "\n",
      "Epoch 00031: saving model to /home/ec2-user/workspace/Aaron-Workspace/DepressionAnalysisModel5 (NEW SINGLE IMG)2.h5\n",
      "Epoch 32/50\n",
      "500/500 [==============================] - 73s 146ms/step - loss: 3388.7668 - acc: 0.0103 - val_loss: 358.0000 - val_acc: 0.0286\n",
      "\n",
      "Epoch 00032: saving model to /home/ec2-user/workspace/Aaron-Workspace/DepressionAnalysisModel5 (NEW SINGLE IMG)2.h5\n",
      "Epoch 33/50\n",
      "500/500 [==============================] - 73s 146ms/step - loss: 3373.8696 - acc: 0.0103 - val_loss: 358.0000 - val_acc: 0.0286\n",
      "\n",
      "Epoch 00033: saving model to /home/ec2-user/workspace/Aaron-Workspace/DepressionAnalysisModel5 (NEW SINGLE IMG)2.h5\n",
      "Epoch 34/50\n"
     ]
    },
    {
     "name": "stdout",
     "output_type": "stream",
     "text": [
      "500/500 [==============================] - 73s 146ms/step - loss: 3349.3289 - acc: 0.0100 - val_loss: 358.0000 - val_acc: 0.0286\n",
      "\n",
      "Epoch 00034: saving model to /home/ec2-user/workspace/Aaron-Workspace/DepressionAnalysisModel5 (NEW SINGLE IMG)2.h5\n",
      "Epoch 35/50\n",
      "500/500 [==============================] - 73s 146ms/step - loss: 3409.4968 - acc: 0.0096 - val_loss: 358.0000 - val_acc: 0.0286\n",
      "\n",
      "Epoch 00035: saving model to /home/ec2-user/workspace/Aaron-Workspace/DepressionAnalysisModel5 (NEW SINGLE IMG)2.h5\n",
      "Epoch 36/50\n",
      "500/500 [==============================] - 73s 146ms/step - loss: 3340.5507 - acc: 0.0094 - val_loss: 358.0000 - val_acc: 0.0286\n",
      "\n",
      "Epoch 00036: saving model to /home/ec2-user/workspace/Aaron-Workspace/DepressionAnalysisModel5 (NEW SINGLE IMG)2.h5\n",
      "Epoch 37/50\n",
      "500/500 [==============================] - 73s 146ms/step - loss: 3389.6015 - acc: 0.0092 - val_loss: 358.0000 - val_acc: 0.0286\n",
      "\n",
      "Epoch 00037: saving model to /home/ec2-user/workspace/Aaron-Workspace/DepressionAnalysisModel5 (NEW SINGLE IMG)2.h5\n",
      "Epoch 38/50\n",
      "500/500 [==============================] - 73s 146ms/step - loss: 3380.2775 - acc: 0.0100 - val_loss: 358.0000 - val_acc: 0.0286\n",
      "\n",
      "Epoch 00038: saving model to /home/ec2-user/workspace/Aaron-Workspace/DepressionAnalysisModel5 (NEW SINGLE IMG)2.h5\n",
      "Epoch 39/50\n",
      "500/500 [==============================] - 73s 146ms/step - loss: 3420.9282 - acc: 0.0100 - val_loss: 358.0000 - val_acc: 0.0286\n",
      "\n",
      "Epoch 00039: saving model to /home/ec2-user/workspace/Aaron-Workspace/DepressionAnalysisModel5 (NEW SINGLE IMG)2.h5\n",
      "Epoch 40/50\n",
      "500/500 [==============================] - 73s 146ms/step - loss: 3388.7501 - acc: 0.0092 - val_loss: 358.0000 - val_acc: 0.0286\n",
      "\n",
      "Epoch 00040: saving model to /home/ec2-user/workspace/Aaron-Workspace/DepressionAnalysisModel5 (NEW SINGLE IMG)2.h5\n",
      "Epoch 41/50\n",
      "500/500 [==============================] - 73s 146ms/step - loss: 3351.9732 - acc: 0.0092 - val_loss: 358.0000 - val_acc: 0.0286\n",
      "\n",
      "Epoch 00041: saving model to /home/ec2-user/workspace/Aaron-Workspace/DepressionAnalysisModel5 (NEW SINGLE IMG)2.h5\n",
      "Epoch 42/50\n",
      "500/500 [==============================] - 73s 146ms/step - loss: 3366.6913 - acc: 0.0096 - val_loss: 358.0000 - val_acc: 0.0286\n",
      "\n",
      "Epoch 00042: saving model to /home/ec2-user/workspace/Aaron-Workspace/DepressionAnalysisModel5 (NEW SINGLE IMG)2.h5\n",
      "Epoch 43/50\n",
      "500/500 [==============================] - 73s 146ms/step - loss: 3368.7337 - acc: 0.0100 - val_loss: 358.0000 - val_acc: 0.0286\n",
      "\n",
      "Epoch 00043: saving model to /home/ec2-user/workspace/Aaron-Workspace/DepressionAnalysisModel5 (NEW SINGLE IMG)2.h5\n",
      "Epoch 44/50\n",
      "500/500 [==============================] - 73s 146ms/step - loss: 3401.6466 - acc: 0.0100 - val_loss: 358.0000 - val_acc: 0.0286\n",
      "\n",
      "Epoch 00044: saving model to /home/ec2-user/workspace/Aaron-Workspace/DepressionAnalysisModel5 (NEW SINGLE IMG)2.h5\n",
      "Epoch 45/50\n",
      "500/500 [==============================] - 73s 146ms/step - loss: 3398.8094 - acc: 0.0094 - val_loss: 358.0000 - val_acc: 0.0286\n",
      "\n",
      "Epoch 00045: saving model to /home/ec2-user/workspace/Aaron-Workspace/DepressionAnalysisModel5 (NEW SINGLE IMG)2.h5\n",
      "Epoch 46/50\n",
      "500/500 [==============================] - 73s 146ms/step - loss: 3412.5157 - acc: 0.0094 - val_loss: 358.0000 - val_acc: 0.0286\n",
      "\n",
      "Epoch 00046: saving model to /home/ec2-user/workspace/Aaron-Workspace/DepressionAnalysisModel5 (NEW SINGLE IMG)2.h5\n",
      "Epoch 47/50\n",
      "500/500 [==============================] - 73s 146ms/step - loss: 3371.8141 - acc: 0.0096 - val_loss: 358.0000 - val_acc: 0.0286\n",
      "\n",
      "Epoch 00047: saving model to /home/ec2-user/workspace/Aaron-Workspace/DepressionAnalysisModel5 (NEW SINGLE IMG)2.h5\n",
      "Epoch 48/50\n",
      "500/500 [==============================] - 73s 146ms/step - loss: 3404.7398 - acc: 0.0094 - val_loss: 358.0000 - val_acc: 0.0286\n",
      "\n",
      "Epoch 00048: saving model to /home/ec2-user/workspace/Aaron-Workspace/DepressionAnalysisModel5 (NEW SINGLE IMG)2.h5\n",
      "Epoch 49/50\n",
      "500/500 [==============================] - 73s 146ms/step - loss: 3371.7136 - acc: 0.0098 - val_loss: 358.0000 - val_acc: 0.0286\n",
      "\n",
      "Epoch 00049: saving model to /home/ec2-user/workspace/Aaron-Workspace/DepressionAnalysisModel5 (NEW SINGLE IMG)2.h5\n",
      "Epoch 50/50\n",
      "500/500 [==============================] - 73s 146ms/step - loss: 3402.4680 - acc: 0.0094 - val_loss: 358.0000 - val_acc: 0.0286\n",
      "\n",
      "Epoch 00050: saving model to /home/ec2-user/workspace/Aaron-Workspace/DepressionAnalysisModel5 (NEW SINGLE IMG)2.h5\n"
     ]
    },
    {
     "data": {
      "text/plain": [
       "<keras.callbacks.History at 0x7fa008175b00>"
      ]
     },
     "execution_count": 18,
     "metadata": {},
     "output_type": "execute_result"
    }
   ],
   "source": [
    "# model.fit_generator(\n",
    "#         train_generator,\n",
    "#         steps_per_epoch=2000,\n",
    "#         epochs=50,\n",
    "#         validation_data=validation_generator,\n",
    "#         validation_steps=800)\n",
    "\n",
    "numOfSteps = 500\n",
    "numOfEpoch = 50\n",
    "numOfValidation = 20\n",
    "batchSize = 32\n",
    "\n",
    "model.fit_generator(\n",
    "        train_generator,\n",
    "        steps_per_epoch=numOfSteps,\n",
    "        callbacks=callbacks_list,\n",
    "#         batch_size=batchSize\n",
    "        epochs=numOfEpoch,\n",
    "        validation_data=validation_generator,\n",
    "        validation_steps=numOfValidation)"
   ]
  },
  {
   "cell_type": "code",
   "execution_count": 19,
   "metadata": {},
   "outputs": [],
   "source": [
    "model.save(\"50Epoch (NEW SINGLE IMAGE DIR)2.h5\")"
   ]
  },
  {
   "cell_type": "code",
   "execution_count": 22,
   "metadata": {},
   "outputs": [],
   "source": [
    "# # model.fit_generator(\n",
    "# #         train_generator,\n",
    "# #         steps_per_epoch=2000,\n",
    "# #         epochs=50,\n",
    "# #         validation_data=validation_generator,\n",
    "# #         validation_steps=800)\n",
    "\n",
    "# numOfSteps = 500\n",
    "# numOfEpoch = 30\n",
    "# numOfValidation = 100\n",
    "# batchSize = 32\n",
    "\n",
    "# # model.fit_generator(\n",
    "# #         train_generator,\n",
    "# #         steps_per_epoch=numOfSteps,\n",
    "# #         callbacks=callbacks_list,\n",
    "# # #         batch_size=batchSize\n",
    "# #         epochs=numOfEpoch,\n",
    "# #         validation_data=validation_generator,\n",
    "# #         validation_steps=numOfValidation)"
   ]
  },
  {
   "cell_type": "code",
   "execution_count": null,
   "metadata": {},
   "outputs": [],
   "source": []
  },
  {
   "cell_type": "code",
   "execution_count": 23,
   "metadata": {},
   "outputs": [],
   "source": [
    "# model.summary()"
   ]
  },
  {
   "cell_type": "code",
   "execution_count": 24,
   "metadata": {},
   "outputs": [],
   "source": [
    "# from keras.models import load_model\n",
    "\n",
    "# model.save(os.path.join(currentDir,'DepressionAnalysisModel2 after 7 epoch.h5'))  # creates a HDF5 file\n",
    "# #del model  # deletes the existing model\n",
    "\n",
    "# # returns a compiled model\n",
    "# # identical to the previous one\n",
    "# #model = load_model(os.join.path(currentDir,'my_model.h5'))"
   ]
  },
  {
   "cell_type": "code",
   "execution_count": null,
   "metadata": {},
   "outputs": [],
   "source": []
  },
  {
   "cell_type": "code",
   "execution_count": null,
   "metadata": {},
   "outputs": [],
   "source": []
  },
  {
   "cell_type": "code",
   "execution_count": null,
   "metadata": {},
   "outputs": [],
   "source": []
  }
 ],
 "metadata": {
  "kernelspec": {
   "display_name": "Python [conda env:tensorflow_p36]",
   "language": "python",
   "name": "conda-env-tensorflow_p36-py"
  },
  "language_info": {
   "codemirror_mode": {
    "name": "ipython",
    "version": 3
   },
   "file_extension": ".py",
   "mimetype": "text/x-python",
   "name": "python",
   "nbconvert_exporter": "python",
   "pygments_lexer": "ipython3",
   "version": "3.6.5"
  }
 },
 "nbformat": 4,
 "nbformat_minor": 2
}
